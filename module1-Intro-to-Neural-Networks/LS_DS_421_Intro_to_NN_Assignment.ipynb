{
 "cells": [
  {
   "cell_type": "markdown",
   "metadata": {
    "colab_type": "text",
    "id": "dVfaLrjLvxvQ"
   },
   "source": [
    "<img align=\"left\" src=\"https://lever-client-logos.s3.amazonaws.com/864372b1-534c-480e-acd5-9711f850815c-1524247202159.png\" width=200>\n",
    "<br></br>\n",
    "<br></br>\n",
    "\n",
    "# Neural Networks\n",
    "\n",
    "## *Data Science Unit 4 Sprint 2 Assignment 1*"
   ]
  },
  {
   "cell_type": "markdown",
   "metadata": {
    "colab_type": "text",
    "id": "wxtoY12mwmih"
   },
   "source": [
    "## Define the Following:\n",
    "You can add image, diagrams, whatever you need to ensure that you understand the concepts below.\n",
    "\n",
    "### Input Layer: \n",
    " - The intital layer that takes in the data\n",
    "### Hidden Layer:\n",
    " - Any layer after the input layer that is not the output layer.\n",
    " - Takes input from the layer before it, and preforms a funtion.\n",
    "### Output Layer:\n",
    " - The last layer in a NN.\n",
    " - gives you the \"answer\" \n",
    "### Neuron:\n",
    " - a single \"node\" in any layer\n",
    " - holds the output of the previous layer neurons and modifies it\n",
    " - sends out put to the next layer\n",
    "### Weight:\n",
    " - What the input is multiplied by in the Neutons function\n",
    "### Activation Function:\n",
    " - The function that changes the input to the output.\n",
    "### Node Map:\n",
    " - a visualization of the NN as a whole\n",
    "### Perceptron:\n",
    " - an algorithim for binary classification problems using NNs\n"
   ]
  },
  {
   "cell_type": "markdown",
   "metadata": {
    "colab_type": "text",
    "id": "NXuy9WcWzxa4"
   },
   "source": [
    "## Inputs -> Outputs\n",
    "\n",
    "### Explain the flow of information through a neural network from inputs to outputs. Be sure to include: inputs, weights, bias, and activation functions. How does it all flow from beginning to end?"
   ]
  },
  {
   "cell_type": "markdown",
   "metadata": {
    "colab_type": "text",
    "id": "PlSwIJMC0A8F"
   },
   "source": [
    "#### Your data is fed to the input layer which is modified by the Neurons activation function with the appropriate weights factord in. The bias is then added to the out come and passed along to the next layer. This process is repeated until it reaches the output layer."
   ]
  },
  {
   "cell_type": "markdown",
   "metadata": {
    "colab_type": "text",
    "id": "6sWR43PTwhSk"
   },
   "source": [
    "## Write your own perceptron code that can correctly classify (99.0% accuracy) a NAND gate. \n",
    "\n",
    "| x1 | x2 | y |\n",
    "|----|----|---|\n",
    "| 0  | 0  | 1 |\n",
    "| 1  | 0  | 1 |\n",
    "| 0  | 1  | 1 |\n",
    "| 1  | 1  | 0 |"
   ]
  },
  {
   "cell_type": "code",
   "execution_count": 1,
   "metadata": {},
   "outputs": [],
   "source": [
    "import pandas as pd\n",
    "data = { 'x1': [0,1,0,1],\n",
    "         'x2': [0,0,1,1],\n",
    "         'y':  [1,1,1,0]\n",
    "       }\n",
    "\n",
    "df = pd.DataFrame.from_dict(data).astype('int')"
   ]
  },
  {
   "cell_type": "code",
   "execution_count": 16,
   "metadata": {},
   "outputs": [],
   "source": [
    "import numpy as np"
   ]
  },
  {
   "cell_type": "code",
   "execution_count": 261,
   "metadata": {},
   "outputs": [],
   "source": [
    "w = [-2, -2]\n",
    "b = 3"
   ]
  },
  {
   "cell_type": "code",
   "execution_count": 262,
   "metadata": {},
   "outputs": [
    {
     "name": "stdout",
     "output_type": "stream",
     "text": [
      "3\n",
      "1\n",
      "1\n",
      "-1\n"
     ]
    }
   ],
   "source": [
    "for i in range(len(df)):\n",
    "    print((df['x1'][i] * w[0]) + (df['x2'][i] * w[1]) + b)"
   ]
  },
  {
   "cell_type": "code",
   "execution_count": 271,
   "metadata": {},
   "outputs": [
    {
     "data": {
      "text/plain": [
       "1"
      ]
     },
     "execution_count": 271,
     "metadata": {},
     "output_type": "execute_result"
    }
   ],
   "source": [
    "df.iloc[0,2]"
   ]
  },
  {
   "cell_type": "code",
   "execution_count": 275,
   "metadata": {},
   "outputs": [],
   "source": [
    "def nand(X):\n",
    "    raw = []\n",
    "    for i in range(len(X)):\n",
    "        raw.append(\n",
    "        ((X.iloc[i,0] * w[0]) + (X.iloc[i,1] * w[1]) +b)\n",
    "        )\n",
    "    return [1 if x > 0 else 0 for x in raw]"
   ]
  },
  {
   "cell_type": "code",
   "execution_count": 276,
   "metadata": {},
   "outputs": [
    {
     "data": {
      "text/plain": [
       "[1, 1, 1, 0]"
      ]
     },
     "execution_count": 276,
     "metadata": {},
     "output_type": "execute_result"
    }
   ],
   "source": [
    "nand(df.drop(columns='y'))"
   ]
  },
  {
   "cell_type": "markdown",
   "metadata": {
    "colab_type": "text",
    "id": "Xf7sdqVs0s4x"
   },
   "source": [
    "## Implement your own Perceptron Class and use it to classify a binary dataset: \n",
    "- [The Pima Indians Diabetes dataset](https://raw.githubusercontent.com/ryanleeallred/datasets/master/diabetes.csv) \n",
    "\n",
    "You may need to search for other's implementations in order to get inspiration for your own. There are *lots* of perceptron implementations on the internet with varying levels of sophistication and complexity. Whatever your approach, make sure you understand **every** line of your implementation and what its purpose is."
   ]
  },
  {
   "cell_type": "code",
   "execution_count": 128,
   "metadata": {},
   "outputs": [
    {
     "data": {
      "text/html": [
       "<div>\n",
       "<style scoped>\n",
       "    .dataframe tbody tr th:only-of-type {\n",
       "        vertical-align: middle;\n",
       "    }\n",
       "\n",
       "    .dataframe tbody tr th {\n",
       "        vertical-align: top;\n",
       "    }\n",
       "\n",
       "    .dataframe thead th {\n",
       "        text-align: right;\n",
       "    }\n",
       "</style>\n",
       "<table border=\"1\" class=\"dataframe\">\n",
       "  <thead>\n",
       "    <tr style=\"text-align: right;\">\n",
       "      <th></th>\n",
       "      <th>Pregnancies</th>\n",
       "      <th>Glucose</th>\n",
       "      <th>BloodPressure</th>\n",
       "      <th>SkinThickness</th>\n",
       "      <th>Insulin</th>\n",
       "      <th>BMI</th>\n",
       "      <th>DiabetesPedigreeFunction</th>\n",
       "      <th>Age</th>\n",
       "      <th>Outcome</th>\n",
       "    </tr>\n",
       "  </thead>\n",
       "  <tbody>\n",
       "    <tr>\n",
       "      <td>0</td>\n",
       "      <td>6</td>\n",
       "      <td>148</td>\n",
       "      <td>72</td>\n",
       "      <td>35</td>\n",
       "      <td>0</td>\n",
       "      <td>33.6</td>\n",
       "      <td>0.627</td>\n",
       "      <td>50</td>\n",
       "      <td>1</td>\n",
       "    </tr>\n",
       "    <tr>\n",
       "      <td>1</td>\n",
       "      <td>1</td>\n",
       "      <td>85</td>\n",
       "      <td>66</td>\n",
       "      <td>29</td>\n",
       "      <td>0</td>\n",
       "      <td>26.6</td>\n",
       "      <td>0.351</td>\n",
       "      <td>31</td>\n",
       "      <td>0</td>\n",
       "    </tr>\n",
       "    <tr>\n",
       "      <td>2</td>\n",
       "      <td>8</td>\n",
       "      <td>183</td>\n",
       "      <td>64</td>\n",
       "      <td>0</td>\n",
       "      <td>0</td>\n",
       "      <td>23.3</td>\n",
       "      <td>0.672</td>\n",
       "      <td>32</td>\n",
       "      <td>1</td>\n",
       "    </tr>\n",
       "    <tr>\n",
       "      <td>3</td>\n",
       "      <td>1</td>\n",
       "      <td>89</td>\n",
       "      <td>66</td>\n",
       "      <td>23</td>\n",
       "      <td>94</td>\n",
       "      <td>28.1</td>\n",
       "      <td>0.167</td>\n",
       "      <td>21</td>\n",
       "      <td>0</td>\n",
       "    </tr>\n",
       "    <tr>\n",
       "      <td>4</td>\n",
       "      <td>0</td>\n",
       "      <td>137</td>\n",
       "      <td>40</td>\n",
       "      <td>35</td>\n",
       "      <td>168</td>\n",
       "      <td>43.1</td>\n",
       "      <td>2.288</td>\n",
       "      <td>33</td>\n",
       "      <td>1</td>\n",
       "    </tr>\n",
       "  </tbody>\n",
       "</table>\n",
       "</div>"
      ],
      "text/plain": [
       "   Pregnancies  Glucose  BloodPressure  SkinThickness  Insulin   BMI  \\\n",
       "0            6      148             72             35        0  33.6   \n",
       "1            1       85             66             29        0  26.6   \n",
       "2            8      183             64              0        0  23.3   \n",
       "3            1       89             66             23       94  28.1   \n",
       "4            0      137             40             35      168  43.1   \n",
       "\n",
       "   DiabetesPedigreeFunction  Age  Outcome  \n",
       "0                     0.627   50        1  \n",
       "1                     0.351   31        0  \n",
       "2                     0.672   32        1  \n",
       "3                     0.167   21        0  \n",
       "4                     2.288   33        1  "
      ]
     },
     "execution_count": 128,
     "metadata": {},
     "output_type": "execute_result"
    }
   ],
   "source": [
    "diabetes = pd.read_csv('https://raw.githubusercontent.com/ryanleeallred/datasets/master/diabetes.csv')\n",
    "diabetes.head()"
   ]
  },
  {
   "cell_type": "markdown",
   "metadata": {},
   "source": [
    "Although neural networks can handle non-normalized data, scaling or normalizing your data will improve your neural network's learning speed. Try to apply the sklearn `MinMaxScaler` or `Normalizer` to your diabetes dataset. "
   ]
  },
  {
   "cell_type": "code",
   "execution_count": 142,
   "metadata": {},
   "outputs": [],
   "source": [
    "from sklearn.preprocessing import MinMaxScaler, Normalizer\n",
    "\n",
    "feats = list(diabetes)[:-1]\n",
    "norm = Normalizer().fit(diabetes.drop(columns='Outcome'))\n",
    "X = norm.transform(diabetes.drop(columns='Outcome'))"
   ]
  },
  {
   "cell_type": "code",
   "execution_count": 180,
   "metadata": {},
   "outputs": [],
   "source": [
    "from sklearn.model_selection import train_test_split"
   ]
  },
  {
   "cell_type": "code",
   "execution_count": 182,
   "metadata": {},
   "outputs": [],
   "source": [
    "X_train, X_test, y_train, y_test = train_test_split(X, diabetes['Outcome'])"
   ]
  },
  {
   "cell_type": "code",
   "execution_count": 185,
   "metadata": {},
   "outputs": [
    {
     "data": {
      "text/plain": [
       "((576, 8), (576,))"
      ]
     },
     "execution_count": 185,
     "metadata": {},
     "output_type": "execute_result"
    }
   ],
   "source": [
    "X_train.shape, y_train.shape"
   ]
  },
  {
   "cell_type": "code",
   "execution_count": 301,
   "metadata": {
    "colab": {},
    "colab_type": "code",
    "id": "-W0tiX1F1hh2"
   },
   "outputs": [],
   "source": [
    "##### Update this Class #####\n",
    "\n",
    "class Perceptron(object):\n",
    "    \n",
    "    def __init__(self, niter = 100):\n",
    "        self.niter = niter\n",
    "    \n",
    "    def __sigmoid(self, x):\n",
    "        return 1 / (1 + np.exp(-x))\n",
    "    \n",
    "    def __sigmoid_derivative(self, x):\n",
    "        return (self.__sigmoid(x) * (1-(self.__sigmoid(x))))\n",
    "\n",
    "    def fit(self, X, y):\n",
    "        \"\"\"Fit training data\n",
    "        X : Training vectors, X.shape : [#samples, #features]\n",
    "        y : Target values, y.shape : [#samples]\n",
    "        \"\"\"\n",
    "\n",
    "        # Randomly Initialize Weights\n",
    "        self.weights = 2 * np.random.random((X.shape[1],1)) - 1\n",
    "\n",
    "        for i in range(self.niter):\n",
    "            # Weighted sum of inputs / weights\n",
    "#             print('X:',X, '\\n weights:', self.weights)\n",
    "            self.weighted_sum = np.dot(X, self.weights)\n",
    "#             print('weighted_sum:', self.weighted_sum)\n",
    "\n",
    "            # Activate!\n",
    "            self.activated_output = self.__sigmoid(self.weighted_sum)\n",
    "            # Cac error\n",
    "#             print('y:',np.array(y).reshape(-1,1), '\\n output', self.activated_output)\n",
    "            self.error = np.array(y).reshape(-1,1) - self.activated_output\n",
    "#             print('error:', self.error)\n",
    "#             Update the Weights\n",
    "            self.adjustments = self.error * self.__sigmoid_derivative(self.activated_output)\n",
    "#             print('Adjustments:', self.adjustments)\n",
    "            self.weights += np.dot(X.T, self.adjustments)\n",
    "\n",
    "    def predict(self, X):\n",
    "        \"\"\"Return class label after unit step\"\"\"\n",
    "        return self.__sigmoid(np.dot(X, self.weights))"
   ]
  },
  {
   "cell_type": "code",
   "execution_count": 302,
   "metadata": {},
   "outputs": [],
   "source": [
    "model = Perceptron()"
   ]
  },
  {
   "cell_type": "code",
   "execution_count": 303,
   "metadata": {},
   "outputs": [],
   "source": [
    "model.fit(X_train, y_train)"
   ]
  },
  {
   "cell_type": "code",
   "execution_count": 304,
   "metadata": {},
   "outputs": [],
   "source": [
    "preds = model.predict(X_test)"
   ]
  },
  {
   "cell_type": "code",
   "execution_count": 305,
   "metadata": {},
   "outputs": [],
   "source": [
    "from sklearn.metrics import accuracy_score"
   ]
  },
  {
   "cell_type": "code",
   "execution_count": 306,
   "metadata": {},
   "outputs": [
    {
     "data": {
      "text/plain": [
       "0.671875"
      ]
     },
     "execution_count": 306,
     "metadata": {},
     "output_type": "execute_result"
    }
   ],
   "source": [
    "accuracy_score(y_test, np.round(preds))"
   ]
  },
  {
   "cell_type": "code",
   "execution_count": 238,
   "metadata": {},
   "outputs": [
    {
     "name": "stdout",
     "output_type": "stream",
     "text": [
      "[6.81234738e-16] [0.] 0\n",
      "[1.71775119e-14] [0.] 1\n",
      "[9.65719305e-15] [0.] 0\n",
      "[1.20920309e-16] [0.] 0\n",
      "[3.25138063e-14] [0.] 1\n",
      "[4.11533187e-16] [0.] 0\n",
      "[0.00057828] [0.] 1\n",
      "[5.16964577e-19] [0.] 0\n",
      "[7.78858925e-16] [0.] 0\n",
      "[1.36579837e-17] [0.] 0\n",
      "[4.50445325e-15] [0.] 1\n",
      "[1.92660857e-12] [0.] 0\n",
      "[8.40648173e-18] [0.] 1\n",
      "[1.47370218e-18] [0.] 1\n",
      "[9.99967819e-17] [0.] 0\n",
      "[7.11368092e-18] [0.] 0\n",
      "[2.85127372e-20] [0.] 0\n",
      "[3.55836187e-17] [0.] 0\n",
      "[3.55272623e-14] [0.] 1\n",
      "[6.6780903e-06] [0.] 1\n",
      "[3.55656592e-17] [0.] 0\n",
      "[9.29595381e-21] [0.] 0\n",
      "[3.51293128e-15] [0.] 1\n",
      "[4.9308956e-17] [0.] 1\n",
      "[1.70391408e-17] [0.] 1\n",
      "[1.68629486e-18] [0.] 0\n",
      "[1.67837777e-15] [0.] 0\n",
      "[4.03491629e-16] [0.] 1\n",
      "[1.07531963e-14] [0.] 1\n",
      "[8.46724073e-17] [0.] 0\n",
      "[3.52792409e-17] [0.] 1\n",
      "[1.70974373e-15] [0.] 0\n",
      "[4.0610186e-15] [0.] 0\n",
      "[1.13915149e-14] [0.] 1\n",
      "[1.52583295e-16] [0.] 1\n",
      "[2.46908013e-16] [0.] 0\n",
      "[3.17649822e-16] [0.] 0\n",
      "[5.21547497e-17] [0.] 0\n",
      "[2.03520557e-15] [0.] 1\n",
      "[1.11912067e-18] [0.] 0\n",
      "[1.06117368e-15] [0.] 1\n",
      "[2.64416429e-16] [0.] 0\n",
      "[3.30314866e-18] [0.] 0\n",
      "[6.36887646e-20] [0.] 0\n",
      "[7.61830531e-12] [0.] 0\n",
      "[1.03508468e-15] [0.] 1\n",
      "[4.3425537e-16] [0.] 0\n",
      "[5.79645075e-17] [0.] 0\n",
      "[3.79188112e-12] [0.] 0\n",
      "[1.20520329e-16] [0.] 0\n",
      "[1.55521473e-15] [0.] 0\n",
      "[1.5789432e-21] [0.] 0\n",
      "[2.11664383e-14] [0.] 1\n",
      "[7.7994482e-20] [0.] 0\n",
      "[1.34962072e-15] [0.] 1\n",
      "[9.27997313e-15] [0.] 0\n",
      "[1.43963615e-17] [0.] 1\n",
      "[1.03714253e-15] [0.] 0\n",
      "[2.88253727e-16] [0.] 1\n",
      "[8.48167306e-17] [0.] 0\n",
      "[5.69628493e-07] [0.] 0\n",
      "[4.53121112e-16] [0.] 0\n",
      "[2.19960501e-06] [0.] 0\n",
      "[1.43623095e-17] [0.] 0\n",
      "[4.69496935e-18] [0.] 0\n",
      "[4.01446648e-15] [0.] 0\n",
      "[2.19895831e-12] [0.] 1\n",
      "[4.93382187e-15] [0.] 0\n",
      "[6.07980093e-18] [0.] 0\n",
      "[4.15166734e-18] [0.] 0\n",
      "[4.30185742e-18] [0.] 0\n",
      "[1.22570636e-13] [0.] 1\n",
      "[8.24290583e-06] [0.] 1\n",
      "[6.67043915e-17] [0.] 0\n",
      "[4.83479679e-18] [0.] 0\n",
      "[2.41788507e-15] [0.] 1\n",
      "[6.73096625e-14] [0.] 0\n",
      "[7.65891613e-18] [0.] 0\n",
      "[7.0295479e-18] [0.] 0\n",
      "[5.42937954e-18] [0.] 0\n",
      "[3.52640275e-12] [0.] 1\n",
      "[7.64488227e-18] [0.] 0\n",
      "[3.05890456e-14] [0.] 1\n",
      "[1.42911497e-18] [0.] 0\n",
      "[2.3695124e-18] [0.] 1\n",
      "[4.32701271e-18] [0.] 0\n",
      "[3.55125246e-17] [0.] 0\n",
      "[3.15865513e-18] [0.] 0\n",
      "[2.29735924e-16] [0.] 0\n",
      "[4.38121246e-17] [0.] 0\n",
      "[4.49793802e-15] [0.] 0\n",
      "[9.83881862e-21] [0.] 0\n",
      "[1.05151643e-16] [0.] 1\n",
      "[8.25170993e-16] [0.] 1\n",
      "[9.83152247e-13] [0.] 1\n",
      "[3.88996479e-16] [0.] 0\n",
      "[1.49763648e-16] [0.] 1\n",
      "[1.13634744e-13] [0.] 1\n",
      "[7.69088579e-18] [0.] 0\n",
      "[3.73924715e-16] [0.] 1\n",
      "[1.21921851e-20] [0.] 0\n",
      "[1.85396923e-17] [0.] 0\n",
      "[1.54241429e-15] [0.] 1\n",
      "[1.4574244e-13] [0.] 1\n",
      "[4.05091293e-17] [0.] 0\n",
      "[1.57975715e-19] [0.] 0\n",
      "[2.75549313e-15] [0.] 0\n",
      "[9.38840252e-20] [0.] 0\n",
      "[2.83270281e-19] [0.] 0\n",
      "[1.92060488e-16] [0.] 0\n",
      "[6.30863275e-18] [0.] 0\n",
      "[1.98270224e-15] [0.] 0\n",
      "[5.61052366e-15] [0.] 0\n",
      "[1.95150326e-15] [0.] 0\n",
      "[2.94198846e-13] [0.] 1\n",
      "[7.02416878e-16] [0.] 0\n",
      "[2.03633464e-18] [0.] 0\n",
      "[3.80086666e-17] [0.] 0\n",
      "[1.29780473e-16] [0.] 1\n",
      "[1.4205706e-13] [0.] 1\n",
      "[6.54040919e-19] [0.] 1\n",
      "[1.40860965e-19] [0.] 0\n",
      "[1.17701685e-18] [0.] 0\n",
      "[1.0424999e-16] [0.] 0\n",
      "[4.7472831e-17] [0.] 0\n",
      "[1.28970302e-16] [0.] 0\n",
      "[0.00156166] [0.] 1\n",
      "[3.34534991e-17] [0.] 1\n",
      "[8.32489092e-17] [0.] 0\n",
      "[1.33462e-17] [0.] 1\n",
      "[7.96890933e-19] [0.] 0\n",
      "[1.83529892e-17] [0.] 1\n",
      "[7.02495993e-18] [0.] 0\n",
      "[5.33777346e-15] [0.] 1\n",
      "[5.62677683e-19] [0.] 0\n",
      "[2.8106801e-16] [0.] 1\n",
      "[1.25753523e-14] [0.] 0\n",
      "[9.55979934e-15] [0.] 1\n",
      "[1.79320186e-16] [0.] 0\n",
      "[2.47242411e-15] [0.] 0\n",
      "[7.8761833e-21] [0.] 0\n",
      "[8.58444428e-16] [0.] 0\n",
      "[9.43824875e-14] [0.] 1\n",
      "[2.92613371e-19] [0.] 1\n",
      "[6.3040503e-19] [0.] 0\n",
      "[1.67193191e-18] [0.] 0\n",
      "[5.57421264e-16] [0.] 1\n",
      "[1.83429554e-15] [0.] 0\n",
      "[5.39049864e-17] [0.] 0\n",
      "[1.21060569e-15] [0.] 1\n",
      "[2.92513469e-18] [0.] 1\n",
      "[1.25158353e-15] [0.] 0\n",
      "[5.76436062e-15] [0.] 1\n",
      "[7.24042791e-15] [0.] 1\n",
      "[3.04650438e-15] [0.] 1\n",
      "[2.08585086e-16] [0.] 0\n",
      "[1.66528735e-15] [0.] 1\n",
      "[1.15022066e-15] [0.] 1\n",
      "[1.41965663e-17] [0.] 1\n",
      "[3.10226184e-16] [0.] 0\n",
      "[3.86647787e-17] [0.] 0\n",
      "[5.27027626e-16] [0.] 0\n",
      "[4.88989333e-16] [0.] 0\n",
      "[3.56290115e-14] [0.] 1\n",
      "[3.05925582e-17] [0.] 0\n",
      "[1.31777248e-17] [0.] 0\n",
      "[9.59112884e-11] [0.] 1\n",
      "[1.24054939e-10] [0.] 0\n",
      "[1.25881152e-17] [0.] 0\n",
      "[3.32693025e-16] [0.] 1\n",
      "[6.17112692e-16] [0.] 0\n",
      "[4.10695819e-17] [0.] 0\n",
      "[4.54310677e-14] [0.] 1\n",
      "[3.46063407e-15] [0.] 1\n",
      "[5.76610607e-14] [0.] 0\n",
      "[6.87119411e-16] [0.] 0\n",
      "[6.91986983e-15] [0.] 0\n",
      "[4.02476687e-15] [0.] 0\n",
      "[5.42286925e-15] [0.] 1\n",
      "[2.11932394e-20] [0.] 0\n",
      "[6.48361415e-13] [0.] 1\n",
      "[4.26789228e-19] [0.] 0\n",
      "[1.85779447e-15] [0.] 1\n",
      "[1.43078291e-18] [0.] 0\n",
      "[4.75402914e-19] [0.] 0\n",
      "[3.40512943e-16] [0.] 0\n",
      "[1.23121248e-15] [0.] 0\n",
      "[5.06624792e-14] [0.] 1\n",
      "[4.6605283e-11] [0.] 0\n",
      "[2.56244604e-17] [0.] 0\n",
      "[9.23155396e-18] [0.] 0\n",
      "[4.77674661e-17] [0.] 0\n"
     ]
    }
   ],
   "source": [
    "for i in range(len(preds)):\n",
    "    print(preds[i],np.round(preds[i]), list(y_test)[i])"
   ]
  },
  {
   "cell_type": "markdown",
   "metadata": {
    "colab_type": "text",
    "id": "6QR4oAW1xdyu"
   },
   "source": [
    "## Stretch Goals:\n",
    "\n",
    "- Research \"backpropagation\" to learn how weights get updated in neural networks (tomorrow's lecture). \n",
    "- Implement a multi-layer perceptron. (for non-linearly separable classes)\n",
    "- Try and implement your own backpropagation algorithm.\n",
    "- What are the pros and cons of the different activation functions? How should you decide between them for the different layers of a neural network?"
   ]
  },
  {
   "cell_type": "code",
   "execution_count": null,
   "metadata": {},
   "outputs": [],
   "source": [
    "b = 1\n",
    "'logic_xor': {\n",
    "            'w0': -5,\n",
    "            'w1': 20,\n",
    "            'w2': 10}\n",
    "    \n",
    "def perceptron(weight, bias, x):\n",
    "    model = np.add(np.dot(x, weight), bias)\n",
    "    print('model: {}'.format(model))\n",
    "    logit = 1/(1+np.exp(-model))\n",
    "    print('Type: {}'.format(logit))\n",
    "    return np.round(logit)\n",
    "\n",
    "def compute(logictype, weightdict, dataset):\n",
    "    weights = np.array([ weightdict[logictype][w] for w in weightdict[logictype].keys()[::-1]])\n",
    "    output = np.array([ perceptron(weights, weightdict['bias'][logictype], val) for val in dataset])\n",
    "    print(logictype)\n",
    "    return logictype, output"
   ]
  }
 ],
 "metadata": {
  "colab": {
   "collapsed_sections": [],
   "name": "LS_DS_431_Intro_to_NN_Assignment.ipynb",
   "provenance": [],
   "version": "0.3.2"
  },
  "kernelspec": {
   "display_name": "Python 3",
   "language": "python",
   "name": "python3"
  },
  "language_info": {
   "codemirror_mode": {
    "name": "ipython",
    "version": 3
   },
   "file_extension": ".py",
   "mimetype": "text/x-python",
   "name": "python",
   "nbconvert_exporter": "python",
   "pygments_lexer": "ipython3",
   "version": "3.7.4"
  }
 },
 "nbformat": 4,
 "nbformat_minor": 4
}
