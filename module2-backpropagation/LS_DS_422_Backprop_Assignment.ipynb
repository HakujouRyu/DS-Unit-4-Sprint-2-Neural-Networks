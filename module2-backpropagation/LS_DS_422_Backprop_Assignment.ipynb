{
 "cells": [
  {
   "cell_type": "markdown",
   "metadata": {
    "colab_type": "text",
    "id": "NGGrt9EYlCqY"
   },
   "source": [
    "<img align=\"left\" src=\"https://lever-client-logos.s3.amazonaws.com/864372b1-534c-480e-acd5-9711f850815c-1524247202159.png\" width=200>\n",
    "<br></br>\n",
    "\n",
    "# Backpropagation Practice\n",
    "\n",
    "## *Data Science Unit 4 Sprint 2 Assignment 2*\n",
    "\n",
    "Implement a 3 input, 4 node hidden-layer, 1 output node Multilayer Perceptron on the following dataset:\n",
    "\n",
    "| x1 | x2 | x3 | y |\n",
    "|----|----|----|---|\n",
    "| 0  | 0  | 1  | 0 |\n",
    "| 0  | 1  | 1  | 1 |\n",
    "| 1  | 0  | 1  | 1 |\n",
    "| 0  | 1  | 0  | 1 |\n",
    "| 1  | 0  | 0  | 1 |\n",
    "| 1  | 1  | 1  | 0 |\n",
    "| 0  | 0  | 0  | 0 |\n",
    "\n",
    "If you look at the data you'll notice that the first two columns behave like an XOR gate while the last column is mostly just noise. Remember that creating an XOR gate was what the perceptron was criticized for not being able to learn. "
   ]
  },
  {
   "cell_type": "code",
   "execution_count": 113,
   "metadata": {},
   "outputs": [],
   "source": [
    "df =np.array([\n",
    "    [0,0,1],\n",
    "    [0,1,1],\n",
    "    [1,0,1],\n",
    "    [0,1,0],\n",
    "    [1,0,0],\n",
    "    [1,1,1],\n",
    "    [0,0,0]\n",
    "])"
   ]
  },
  {
   "cell_type": "code",
   "execution_count": 145,
   "metadata": {},
   "outputs": [],
   "source": [
    "def perceptron(x):\n",
    "    weight = [[20], [20], [-10]]\n",
    "    bias = -1.5\n",
    "    model = np.add(np.dot(x, weight), bias)\n",
    "    sig = 1/(1+np.exp(-model))\n",
    "    return np.round(sig)"
   ]
  },
  {
   "cell_type": "code",
   "execution_count": 146,
   "metadata": {},
   "outputs": [
    {
     "data": {
      "text/plain": [
       "array([[0.],\n",
       "       [1.],\n",
       "       [1.],\n",
       "       [1.],\n",
       "       [1.],\n",
       "       [1.],\n",
       "       [0.]])"
      ]
     },
     "execution_count": 146,
     "metadata": {},
     "output_type": "execute_result"
    }
   ],
   "source": [
    "perceptron(df)"
   ]
  },
  {
   "cell_type": "markdown",
   "metadata": {
    "colab_type": "text",
    "id": "8b-r70o8p2Dm"
   },
   "source": [
    "## Try building/training a more complex MLP on a bigger dataset.\n",
    "\n",
    "Use the [MNIST dataset](http://yann.lecun.com/exdb/mnist/) to build the cannonical handwriting digit recognizer and see what kind of accuracy you can achieve. \n",
    "\n",
    "If you need inspiration, the internet is chalk-full of tutorials, but I want you to see how far you can get on your own first. I've linked to the original MNIST dataset above but it will probably be easier to download data through a neural network library. If you reference outside resources make sure you understand every line of code that you're using from other sources, and share with your fellow students helpful resources that you find.\n",
    "\n",
    "\n",
    "### Parts\n",
    "1. Gathering & Transforming the Data\n",
    "2. Making MNIST a Binary Problem\n",
    "3. Estimating your Neural Network (the part you focus on)"
   ]
  },
  {
   "cell_type": "markdown",
   "metadata": {},
   "source": [
    "### Gathering the Data \n",
    "\n",
    "`keras` has a handy method to pull the mnist dataset for you. You'll notice that each observation is a 28x28 arrary which represents an image. Although most Neural Network frameworks can handle higher dimensional data, that is more overhead than necessary for us. We need to flatten the image to one long row which will be 784 values (28X28). Basically, you will be appending each row to one another to make on really long row. "
   ]
  },
  {
   "cell_type": "code",
   "execution_count": null,
   "metadata": {},
   "outputs": [],
   "source": []
  },
  {
   "cell_type": "code",
   "execution_count": 2,
   "metadata": {},
   "outputs": [],
   "source": [
    "import numpy as np\n",
    "from tensorflow.keras.datasets import mnist\n",
    "from tensorflow.keras.utils import to_categorical"
   ]
  },
  {
   "cell_type": "code",
   "execution_count": 3,
   "metadata": {},
   "outputs": [],
   "source": [
    "# input image dimensions\n",
    "img_rows, img_cols = 28, 28"
   ]
  },
  {
   "cell_type": "code",
   "execution_count": 4,
   "metadata": {},
   "outputs": [
    {
     "name": "stdout",
     "output_type": "stream",
     "text": [
      "Downloading data from https://storage.googleapis.com/tensorflow/tf-keras-datasets/mnist.npz\n",
      "11493376/11490434 [==============================] - 17s 1us/step\n"
     ]
    }
   ],
   "source": [
    "# the data, split between train and test sets\n",
    "(x_train, y_train), (x_test, y_test) = mnist.load_data()"
   ]
  },
  {
   "cell_type": "code",
   "execution_count": 5,
   "metadata": {},
   "outputs": [],
   "source": [
    "x_train = x_train.reshape(x_train.shape[0], img_rows * img_cols)\n",
    "x_test = x_test.reshape(x_test.shape[0], img_rows * img_cols)\n",
    "\n",
    "# Normalize Our Data\n",
    "x_train = x_train / 255\n",
    "x_test = x_test / 255"
   ]
  },
  {
   "cell_type": "code",
   "execution_count": 13,
   "metadata": {},
   "outputs": [
    {
     "data": {
      "text/plain": [
       "((60000, 784), (10000, 784))"
      ]
     },
     "execution_count": 13,
     "metadata": {},
     "output_type": "execute_result"
    }
   ],
   "source": [
    "# Now the data should be in a format you're more familiar with\n",
    "x_train.shape, x_test.shape"
   ]
  },
  {
   "cell_type": "code",
   "execution_count": 11,
   "metadata": {},
   "outputs": [
    {
     "data": {
      "text/plain": [
       "array([[0., 0., 0., ..., 0., 0., 0.],\n",
       "       [0., 0., 0., ..., 0., 0., 0.],\n",
       "       [0., 0., 0., ..., 0., 0., 0.],\n",
       "       [0., 0., 0., ..., 0., 0., 0.],\n",
       "       [0., 0., 0., ..., 0., 0., 0.]])"
      ]
     },
     "execution_count": 11,
     "metadata": {},
     "output_type": "execute_result"
    }
   ],
   "source": [
    "x_train[:5]"
   ]
  },
  {
   "cell_type": "markdown",
   "metadata": {},
   "source": [
    "### Making MNIST a Binary Problem \n",
    "MNIST is multiclass classification problem; however we haven't covered all the necessary techniques to handle this yet. You would need to one-hot encode the target, use a different loss metric, and use softmax activations for the last layer. This is all stuff we'll cover later this week, but let us simply the problem for now: Zero or all else."
   ]
  },
  {
   "cell_type": "code",
   "execution_count": 7,
   "metadata": {},
   "outputs": [],
   "source": [
    "import numpy as np\n",
    "\n",
    "y_temp[np.where(y_train == 0.0)[0]] = 1\n",
    "y_train = y_temp\n",
    "\n",
    "y_temp = np.zeros(y_test.shape)\n",
    "y_temp[np.where(y_test == 0.0)[0]] = 1\n",
    "y_test = y_temp"
   ]
  },
  {
   "cell_type": "code",
   "execution_count": 2,
   "metadata": {},
   "outputs": [
    {
     "ename": "NameError",
     "evalue": "name 'y_train' is not defined",
     "output_type": "error",
     "traceback": [
      "\u001b[0;31m---------------------------------------------------------------------------\u001b[0m",
      "\u001b[0;31mNameError\u001b[0m                                 Traceback (most recent call last)",
      "\u001b[0;32m<ipython-input-2-6321113ed8d1>\u001b[0m in \u001b[0;36m<module>\u001b[0;34m()\u001b[0m\n\u001b[1;32m      1\u001b[0m \u001b[0;31m# A Nice Binary target for ya to work with\u001b[0m\u001b[0;34m\u001b[0m\u001b[0;34m\u001b[0m\u001b[0m\n\u001b[0;32m----> 2\u001b[0;31m \u001b[0my_train\u001b[0m\u001b[0;34m.\u001b[0m\u001b[0mshape\u001b[0m\u001b[0;34m(\u001b[0m\u001b[0;34m)\u001b[0m\u001b[0;34m\u001b[0m\u001b[0m\n\u001b[0m",
      "\u001b[0;31mNameError\u001b[0m: name 'y_train' is not defined"
     ]
    }
   ],
   "source": [
    "# A Nice Binary target for ya to work with\n",
    "y_train.shape"
   ]
  },
  {
   "cell_type": "markdown",
   "metadata": {},
   "source": [
    "### Estimating Your `net"
   ]
  },
  {
   "cell_type": "code",
   "execution_count": 75,
   "metadata": {
    "colab": {},
    "colab_type": "code",
    "id": "5MOPtYdk1HgA"
   },
   "outputs": [],
   "source": [
    "class NN:\n",
    "    def __init__(self, iterations = 1000):\n",
    "        self.niter = iterations\n",
    "        self.inputs = 784\n",
    "        self.hiddenNodes = 2\n",
    "        self.outputNodes = 2\n",
    "        \n",
    "        self.weights1 = np.random.rand(self.inputs, self.hiddenNodes)\n",
    "        self.weights2 = np.random.rand(self.hiddenNodes, self.outputNodes)\n",
    "        \n",
    "    def sigmoid(self, s):\n",
    "        return 1 / (1+np.exp(-s))\n",
    "        \n",
    "    def sigmoidPrime(self, s):\n",
    "        return (self.sigmoid(s) * (1-(self.sigmoid(s))))\n",
    "\n",
    "    def feed_forward(self, X):\n",
    "        # Weighted sum of inputs => hidden layer\n",
    "        self.hidden_sum = np.dot(X, self.weights1)\n",
    "\n",
    "        # Activations of weighted sum\n",
    "        self.activated_hidden = self.sigmoid(self.hidden_sum)\n",
    "\n",
    "        # Weight sum between hidden and output\n",
    "        self.output_sum = np.dot(self.activated_hidden, self.weights2)\n",
    "\n",
    "        # Final activation of output\n",
    "        self.activated_output = self.sigmoid(self.output_sum)\n",
    "\n",
    "        return self.activated_output\n",
    "\n",
    "    def backward(self, X, y, o):\n",
    "        # Error in output\n",
    "        self.o_error = y.reshape(-1,1) - o\n",
    "\n",
    "       #Error to Sigmoid\n",
    "        self.o_delta = self.o_error * self.sigmoidPrime(o)\n",
    "\n",
    "        # z2 error\n",
    "        self.z2_error = self.o_delta.dot(self.weights2.T)\n",
    "\n",
    "        # Error explained bi input to hiddenNode\n",
    "        self.z2_delta = self.z2_error * self.sigmoidPrime(self.activated_hidden)\n",
    "\n",
    "        # Adjustment to first layer\n",
    "        self.weights1 += X.T.dot(self.z2_delta)\n",
    "        # Adjustment to second layer\n",
    "        self.weights2 += self.activated_hidden.T.dot(self.o_delta)\n",
    "\n",
    "\n",
    "    def train(self, X, y):\n",
    "        for iter in range(self.niter):\n",
    "            o = self.feed_forward(X)\n",
    "            self.backward(X,y,o)\n"
   ]
  },
  {
   "cell_type": "code",
   "execution_count": 76,
   "metadata": {},
   "outputs": [],
   "source": [
    "nn = NN()"
   ]
  },
  {
   "cell_type": "code",
   "execution_count": 77,
   "metadata": {},
   "outputs": [
    {
     "name": "stderr",
     "output_type": "stream",
     "text": [
      "/home/hakujou/anaconda3/envs/u4s1/lib/python3.7/site-packages/ipykernel_launcher.py:12: RuntimeWarning: overflow encountered in exp\n",
      "  if sys.path[0] == '':\n"
     ]
    }
   ],
   "source": [
    "nn.train(x_train, y_train)"
   ]
  },
  {
   "cell_type": "code",
   "execution_count": 78,
   "metadata": {},
   "outputs": [
    {
     "name": "stderr",
     "output_type": "stream",
     "text": [
      "/home/hakujou/anaconda3/envs/u4s1/lib/python3.7/site-packages/ipykernel_launcher.py:12: RuntimeWarning: overflow encountered in exp\n",
      "  if sys.path[0] == '':\n"
     ]
    }
   ],
   "source": [
    "preds = nn.feed_forward(x_test)"
   ]
  },
  {
   "cell_type": "code",
   "execution_count": 84,
   "metadata": {},
   "outputs": [
    {
     "data": {
      "text/plain": [
       "True"
      ]
     },
     "execution_count": 84,
     "metadata": {},
     "output_type": "execute_result"
    }
   ],
   "source": [
    "preds[3][0] > 0"
   ]
  },
  {
   "cell_type": "code",
   "execution_count": 90,
   "metadata": {},
   "outputs": [
    {
     "name": "stdout",
     "output_type": "stream",
     "text": [
      "[0. 0.] 0 0.0\n",
      "[0. 0.] 0 0.0\n",
      "[0. 0.] 0 0.0\n",
      "[0.5 0.5] 1 1.0\n",
      "[0. 0.] 0 0.0\n",
      "[0. 0.] 0 0.0\n",
      "[0. 0.] 0 0.0\n",
      "[0. 0.] 0 0.0\n",
      "[0.5 0.5] 1 0.0\n",
      "[0. 0.] 0 0.0\n",
      "[0.5 0.5] 1 1.0\n",
      "[0.5 0.5] 1 0.0\n",
      "[0. 0.] 0 0.0\n",
      "[0.5 0.5] 1 1.0\n",
      "[0. 0.] 0 0.0\n",
      "[0. 0.] 0 0.0\n",
      "[0. 0.] 0 0.0\n",
      "[0. 0.] 0 0.0\n",
      "[0. 0.] 0 0.0\n",
      "[0. 0.] 0 0.0\n",
      "[0. 0.] 0 0.0\n",
      "[0. 0.] 0 0.0\n",
      "[0. 0.] 0 0.0\n",
      "[0. 0.] 0 0.0\n",
      "[0. 0.] 0 0.0\n",
      "[0.5 0.5] 1 1.0\n",
      "[0. 0.] 0 0.0\n",
      "[0. 0.] 0 0.0\n",
      "[0.5 0.5] 1 1.0\n",
      "[0. 0.] 0 0.0\n",
      "[0. 0.] 0 0.0\n",
      "[0. 0.] 0 0.0\n",
      "[0. 0.] 0 0.0\n",
      "[0.5 0.5] 1 0.0\n",
      "[0. 0.] 0 0.0\n",
      "[0. 0.] 0 0.0\n",
      "[0. 0.] 0 0.0\n",
      "[0. 0.] 0 0.0\n",
      "[0.5 0.5] 1 0.0\n",
      "[0. 0.] 0 0.0\n",
      "[0. 0.] 0 0.0\n",
      "[0. 0.] 0 0.0\n",
      "[0. 0.] 0 0.0\n",
      "[0. 0.] 0 0.0\n",
      "[0. 0.] 0 0.0\n",
      "[0. 0.] 0 0.0\n",
      "[0. 0.] 0 0.0\n",
      "[0. 0.] 0 0.0\n",
      "[0. 0.] 0 0.0\n",
      "[0. 0.] 0 0.0\n",
      "[0. 0.] 0 0.0\n",
      "[0. 0.] 0 0.0\n",
      "[0.5 0.5] 1 0.0\n",
      "[0. 0.] 0 0.0\n",
      "[0. 0.] 0 0.0\n",
      "[0.5 0.5] 1 1.0\n",
      "[0. 0.] 0 0.0\n",
      "[0. 0.] 0 0.0\n",
      "[0. 0.] 0 0.0\n",
      "[0.5 0.5] 1 0.0\n",
      "[0. 0.] 0 0.0\n",
      "[0. 0.] 0 0.0\n",
      "[0. 0.] 0 0.0\n",
      "[0. 0.] 0 0.0\n",
      "[0. 0.] 0 0.0\n",
      "[0. 0.] 0 0.0\n",
      "[0.5 0.5] 1 0.0\n",
      "[0. 0.] 0 0.0\n",
      "[0. 0.] 0 0.0\n",
      "[0.5 0.5] 1 1.0\n",
      "[0. 0.] 0 0.0\n",
      "[0.5 0.5] 1 1.0\n",
      "[0.5 0.5] 1 0.0\n",
      "[0. 0.] 0 0.0\n",
      "[0. 0.] 0 0.0\n",
      "[0. 0.] 0 0.0\n",
      "[0. 0.] 0 0.0\n",
      "[0. 0.] 0 0.0\n",
      "[0. 0.] 0 0.0\n",
      "[0. 0.] 0 0.0\n",
      "[0. 0.] 0 0.0\n",
      "[0. 0.] 0 0.0\n",
      "[0. 0.] 0 0.0\n",
      "[0. 0.] 0 0.0\n",
      "[0. 0.] 0 0.0\n",
      "[0. 0.] 0 0.0\n",
      "[0. 0.] 0 0.0\n",
      "[0. 0.] 0 0.0\n",
      "[0. 0.] 0 0.0\n",
      "[0. 0.] 0 0.0\n",
      "[0. 0.] 0 0.0\n",
      "[0. 0.] 0 0.0\n",
      "[0. 0.] 0 0.0\n",
      "[0. 0.] 0 0.0\n",
      "[0. 0.] 0 0.0\n",
      "[0. 0.] 0 0.0\n",
      "[0. 0.] 0 0.0\n",
      "[0. 0.] 0 0.0\n",
      "[0.5 0.5] 1 0.0\n",
      "[0. 0.] 0 0.0\n"
     ]
    }
   ],
   "source": [
    "new_preds = [1 if i[0] > 0 else 0 for i in preds]\n",
    "for i in range(len(preds))[:100]:\n",
    "    print(preds[i], new_preds[i], y_test[i])"
   ]
  },
  {
   "cell_type": "markdown",
   "metadata": {
    "colab_type": "text",
    "id": "FwlRJSfBlCvy"
   },
   "source": [
    "## Stretch Goals: \n",
    "\n",
    "- Make MNIST a multiclass problem using cross entropy & soft-max\n",
    "- Implement Cross Validation model evaluation on your MNIST implementation \n",
    "- Research different [Gradient Descent Based Optimizers](https://keras.io/optimizers/)\n",
    " - [Siraj Raval the evolution of gradient descent](https://www.youtube.com/watch?v=nhqo0u1a6fw)\n",
    "- Build a housing price estimation model using a neural network. How does its accuracy compare with the regression models that we fit earlier on in class?"
   ]
  },
  {
   "cell_type": "code",
   "execution_count": null,
   "metadata": {},
   "outputs": [],
   "source": []
  }
 ],
 "metadata": {
  "colab": {
   "name": "LS_DS_432_Backprop_Assignment.ipynb",
   "provenance": [],
   "version": "0.3.2"
  },
  "kernelspec": {
   "display_name": "conda_tensorflow_p36",
   "language": "python",
   "name": "conda_tensorflow_p36"
  },
  "language_info": {
   "codemirror_mode": {
    "name": "ipython",
    "version": 3
   },
   "file_extension": ".py",
   "mimetype": "text/x-python",
   "name": "python",
   "nbconvert_exporter": "python",
   "pygments_lexer": "ipython3",
   "version": "3.6.5"
  }
 },
 "nbformat": 4,
 "nbformat_minor": 4
}
