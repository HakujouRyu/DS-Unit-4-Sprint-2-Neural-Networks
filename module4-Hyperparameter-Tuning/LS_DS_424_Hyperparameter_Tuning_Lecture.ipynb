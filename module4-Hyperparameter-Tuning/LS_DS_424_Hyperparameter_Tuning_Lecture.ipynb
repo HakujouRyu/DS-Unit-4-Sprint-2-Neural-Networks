{
 "cells": [
  {
   "cell_type": "markdown",
   "metadata": {
    "colab_type": "text",
    "id": "41TS0Sa0rDNx"
   },
   "source": [
    "Lambda School Data Science\n",
    "\n",
    "*Unit 4, Sprint 2, Module 4*\n",
    "\n",
    "---"
   ]
  },
  {
   "cell_type": "markdown",
   "metadata": {
    "colab_type": "text",
    "id": "41TS0Sa0rDNx"
   },
   "source": [
    "# Neural Networks & GPUs (Prepare)\n",
    "*aka Hyperparameter Tuning*\n",
    "\n",
    "*aka Big Servers for Big Problems*"
   ]
  },
  {
   "cell_type": "markdown",
   "metadata": {
    "colab_type": "text",
    "id": "41TS0Sa0rDNx"
   },
   "source": [
    "## Learning Objectives\n",
    "* <a href=\"#p1\">Part 1</a>: Describe the major hyperparemeters to tune\n",
    "* <a href=\"#p2\">Part 2</a>: Implement an experiment tracking framework\n",
    "* <a href=\"#p3\">Part 3</a>: Search the hyperparameter space using RandomSearch (Optional)"
   ]
  },
  {
   "cell_type": "markdown",
   "metadata": {},
   "source": [
    "# Hyperparameter Options (Learn)\n",
    "<a id=\"p1\"></a>"
   ]
  },
  {
   "cell_type": "markdown",
   "metadata": {},
   "source": [
    "## Overview\n",
    "\n",
    "Hyperparameter tuning is much more important with neural networks than it has been with any other models that we have considered up to this point. Other supervised learning models might have a couple of parameters, but neural networks can have dozens. These can substantially affect the accuracy of our models and although it can be a time consuming process is a necessary step when working with neural networks.\n",
    "​\n",
    "Hyperparameter tuning comes with a challenge. How can we compare models specified with different hyperparameters if our model's final error metric can vary somewhat erratically? How do we avoid just getting unlucky and selecting the wrong hyperparameter? This is a problem that to a certain degree we just have to live with as we test and test again. However, we can minimize it somewhat by pairing our experiments with Cross Validation to reduce the variance of our final accuracy values."
   ]
  },
  {
   "cell_type": "markdown",
   "metadata": {
    "colab_type": "text",
    "id": "0s0o2pqBs88q"
   },
   "source": [
    "### Load Boston Housing Data"
   ]
  },
  {
   "cell_type": "code",
   "execution_count": 4,
   "metadata": {},
   "outputs": [],
   "source": [
    "from tensorflow.keras.datasets import boston_housing\n",
    "\n",
    "(x_train, y_train), (x_test, y_test) = boston_housing.load_data()"
   ]
  },
  {
   "cell_type": "markdown",
   "metadata": {
    "colab_type": "text",
    "id": "Pm7zow5IvaTt"
   },
   "source": [
    "### Normalizing Input Data\n",
    "\n",
    "It's not 100% necessary to normalize/scale your input data before feeding it to a neural network, the network can learn the appropriate weights to deal with data of as long as it is numerically represented,  but it is recommended as it can help **make training faster** and **reduces the chances that gradient descent might get stuck in a local optimum**.\n",
    "\n",
    "<https://stackoverflow.com/questions/4674623/why-do-we-have-to-normalize-the-input-for-an-artificial-neural-network>"
   ]
  },
  {
   "cell_type": "code",
   "execution_count": 5,
   "metadata": {},
   "outputs": [
    {
     "name": "stdout",
     "output_type": "stream",
     "text": [
      "[[-0.27224633 -0.48361547 -0.43576161 -0.25683275 -0.1652266  -0.1764426\n",
      "   0.81306188  0.1166983  -0.62624905 -0.59517003  1.14850044  0.44807713\n",
      "   0.8252202 ]\n",
      " [-0.40342651  2.99178419 -1.33391162 -0.25683275 -1.21518188  1.89434613\n",
      "  -1.91036058  1.24758524 -0.85646254 -0.34843254 -1.71818909  0.43190599\n",
      "  -1.32920239]\n",
      " [ 0.1249402  -0.48361547  1.0283258  -0.25683275  0.62864202 -1.82968811\n",
      "   1.11048828 -1.18743907  1.67588577  1.5652875   0.78447637  0.22061726\n",
      "  -1.30850006]\n",
      " [-0.40149354 -0.48361547 -0.86940196 -0.25683275 -0.3615597  -0.3245576\n",
      "  -1.23667187  1.10717989 -0.51114231 -1.094663    0.78447637  0.44807713\n",
      "  -0.65292624]\n",
      " [-0.0056343  -0.48361547  1.0283258  -0.25683275  1.32861221  0.15364225\n",
      "   0.69480801 -0.57857203  1.67588577  1.5652875   0.78447637  0.3898823\n",
      "   0.26349695]\n",
      " [-0.37502238 -0.48361547 -0.54747912 -0.25683275 -0.54935658 -0.78865126\n",
      "   0.18954148  0.48371503 -0.51114231 -0.71552978  0.51145832  0.38669063\n",
      "  -0.13812828]\n",
      " [ 0.58963463 -0.48361547  1.0283258  -0.25683275  1.21764133 -1.03127774\n",
      "   1.11048828 -1.06518235  1.67588577  1.5652875   0.78447637  0.44807713\n",
      "   1.49873604]\n",
      " [ 0.0381708  -0.48361547  1.24588095 -0.25683275  2.67733525 -1.12719983\n",
      "   1.11048828 -1.14833073 -0.51114231 -0.01744323 -1.71818909  0.44807713\n",
      "   1.88793986]\n",
      " [-0.17228416 -0.48361547  1.24588095 -0.25683275  2.67733525 -0.90150078\n",
      "   1.11048828 -1.09664657 -0.51114231 -0.01744323 -1.71818909 -1.97365769\n",
      "   0.53952803]\n",
      " [-0.22932104 -0.48361547  1.58544339 -0.25683275  0.56888847 -1.76056777\n",
      "   1.11048828 -1.13471925 -0.62624905  0.18716835  1.23950646  0.44807713\n",
      "   2.99068404]]\n"
     ]
    }
   ],
   "source": [
    "from sklearn.preprocessing import StandardScaler\n",
    "\n",
    "scaler = StandardScaler()\n",
    "\n",
    "x_train = scaler.fit_transform(x_train)\n",
    "x_test = scaler.transform(x_test)\n",
    "print(x_train[:10])"
   ]
  },
  {
   "cell_type": "markdown",
   "metadata": {
    "colab_type": "text",
    "id": "l6hgCWbir90R"
   },
   "source": [
    "### Model Validation using an automatic verification Dataset\n",
    "\n",
    "Instead of doing seperate train test split class, Keras has a really nice feature that you can set the validation.data argument when fitting your model and Keras will take that portion of your test data and use it as a validation dataset. "
   ]
  },
  {
   "cell_type": "code",
   "execution_count": 6,
   "metadata": {
    "colab": {
     "base_uri": "https://localhost:8080/",
     "height": 1750
    },
    "colab_type": "code",
    "id": "GMXVfmzXp1Oo",
    "outputId": "b05e251e-508f-46e6-865b-f869ae2a5dc4"
   },
   "outputs": [
    {
     "name": "stdout",
     "output_type": "stream",
     "text": [
      "Train on 404 samples, validate on 102 samples\n",
      "Epoch 1/75\n",
      "404/404 [==============================] - 0s 1ms/sample - loss: 509.3470 - mean_squared_error: 509.3470 - mean_absolute_error: 20.5336 - val_loss: 436.1541 - val_mean_squared_error: 436.1541 - val_mean_absolute_error: 18.6816\n",
      "Epoch 2/75\n",
      "404/404 [==============================] - 0s 231us/sample - loss: 269.7943 - mean_squared_error: 269.7944 - mean_absolute_error: 13.8776 - val_loss: 132.7143 - val_mean_squared_error: 132.7143 - val_mean_absolute_error: 9.7621\n",
      "Epoch 3/75\n",
      "404/404 [==============================] - 0s 231us/sample - loss: 68.8335 - mean_squared_error: 68.8335 - mean_absolute_error: 6.3056 - val_loss: 49.9199 - val_mean_squared_error: 49.9199 - val_mean_absolute_error: 5.4434\n",
      "Epoch 4/75\n",
      "404/404 [==============================] - 0s 230us/sample - loss: 33.9760 - mean_squared_error: 33.9760 - mean_absolute_error: 4.1695 - val_loss: 35.0916 - val_mean_squared_error: 35.0916 - val_mean_absolute_error: 4.6643\n",
      "Epoch 5/75\n",
      "404/404 [==============================] - 0s 237us/sample - loss: 25.0912 - mean_squared_error: 25.0912 - mean_absolute_error: 3.6184 - val_loss: 30.9849 - val_mean_squared_error: 30.9849 - val_mean_absolute_error: 4.3117\n",
      "Epoch 6/75\n",
      "404/404 [==============================] - 0s 231us/sample - loss: 21.9230 - mean_squared_error: 21.9230 - mean_absolute_error: 3.3377 - val_loss: 28.8121 - val_mean_squared_error: 28.8121 - val_mean_absolute_error: 4.1284\n",
      "Epoch 7/75\n",
      "404/404 [==============================] - 0s 228us/sample - loss: 19.7046 - mean_squared_error: 19.7046 - mean_absolute_error: 3.1733 - val_loss: 27.1587 - val_mean_squared_error: 27.1587 - val_mean_absolute_error: 3.9410\n",
      "Epoch 8/75\n",
      "404/404 [==============================] - 0s 225us/sample - loss: 18.1490 - mean_squared_error: 18.1490 - mean_absolute_error: 3.0474 - val_loss: 26.7078 - val_mean_squared_error: 26.7078 - val_mean_absolute_error: 3.8267\n",
      "Epoch 9/75\n",
      "404/404 [==============================] - 0s 225us/sample - loss: 16.6034 - mean_squared_error: 16.6034 - mean_absolute_error: 2.8868 - val_loss: 25.6254 - val_mean_squared_error: 25.6254 - val_mean_absolute_error: 3.7047\n",
      "Epoch 10/75\n",
      "404/404 [==============================] - 0s 222us/sample - loss: 15.3799 - mean_squared_error: 15.3799 - mean_absolute_error: 2.7788 - val_loss: 25.1909 - val_mean_squared_error: 25.1909 - val_mean_absolute_error: 3.6474\n",
      "Epoch 11/75\n",
      "404/404 [==============================] - 0s 221us/sample - loss: 14.3144 - mean_squared_error: 14.3144 - mean_absolute_error: 2.7120 - val_loss: 26.3671 - val_mean_squared_error: 26.3671 - val_mean_absolute_error: 3.6782\n",
      "Epoch 12/75\n",
      "404/404 [==============================] - 0s 232us/sample - loss: 13.4469 - mean_squared_error: 13.4469 - mean_absolute_error: 2.6082 - val_loss: 25.2862 - val_mean_squared_error: 25.2862 - val_mean_absolute_error: 3.5495\n",
      "Epoch 13/75\n",
      "404/404 [==============================] - 0s 228us/sample - loss: 12.7284 - mean_squared_error: 12.7284 - mean_absolute_error: 2.5462 - val_loss: 24.6167 - val_mean_squared_error: 24.6167 - val_mean_absolute_error: 3.4878\n",
      "Epoch 14/75\n",
      "404/404 [==============================] - 0s 231us/sample - loss: 12.0854 - mean_squared_error: 12.0854 - mean_absolute_error: 2.4692 - val_loss: 25.1923 - val_mean_squared_error: 25.1923 - val_mean_absolute_error: 3.4913\n",
      "Epoch 15/75\n",
      "404/404 [==============================] - 0s 237us/sample - loss: 11.8057 - mean_squared_error: 11.8057 - mean_absolute_error: 2.4150 - val_loss: 24.9860 - val_mean_squared_error: 24.9860 - val_mean_absolute_error: 3.4373\n",
      "Epoch 16/75\n",
      "404/404 [==============================] - 0s 225us/sample - loss: 11.2358 - mean_squared_error: 11.2358 - mean_absolute_error: 2.3948 - val_loss: 24.3703 - val_mean_squared_error: 24.3703 - val_mean_absolute_error: 3.3643\n",
      "Epoch 17/75\n",
      "404/404 [==============================] - 0s 225us/sample - loss: 10.8334 - mean_squared_error: 10.8334 - mean_absolute_error: 2.3309 - val_loss: 24.4095 - val_mean_squared_error: 24.4095 - val_mean_absolute_error: 3.3678\n",
      "Epoch 18/75\n",
      "404/404 [==============================] - 0s 230us/sample - loss: 10.5647 - mean_squared_error: 10.5647 - mean_absolute_error: 2.2998 - val_loss: 25.1873 - val_mean_squared_error: 25.1873 - val_mean_absolute_error: 3.3630\n",
      "Epoch 19/75\n",
      "404/404 [==============================] - 0s 230us/sample - loss: 10.3724 - mean_squared_error: 10.3724 - mean_absolute_error: 2.3230 - val_loss: 24.8289 - val_mean_squared_error: 24.8289 - val_mean_absolute_error: 3.3237\n",
      "Epoch 20/75\n",
      "404/404 [==============================] - 0s 230us/sample - loss: 10.0515 - mean_squared_error: 10.0515 - mean_absolute_error: 2.2731 - val_loss: 23.9247 - val_mean_squared_error: 23.9247 - val_mean_absolute_error: 3.2538\n",
      "Epoch 21/75\n",
      "404/404 [==============================] - 0s 229us/sample - loss: 9.8737 - mean_squared_error: 9.8737 - mean_absolute_error: 2.2458 - val_loss: 26.1359 - val_mean_squared_error: 26.1359 - val_mean_absolute_error: 3.3351\n",
      "Epoch 22/75\n",
      "404/404 [==============================] - 0s 225us/sample - loss: 9.8075 - mean_squared_error: 9.8074 - mean_absolute_error: 2.2904 - val_loss: 22.8376 - val_mean_squared_error: 22.8376 - val_mean_absolute_error: 3.1353\n",
      "Epoch 23/75\n",
      "404/404 [==============================] - 0s 229us/sample - loss: 9.5220 - mean_squared_error: 9.5220 - mean_absolute_error: 2.2034 - val_loss: 25.5349 - val_mean_squared_error: 25.5349 - val_mean_absolute_error: 3.3019\n",
      "Epoch 24/75\n",
      "404/404 [==============================] - 0s 235us/sample - loss: 9.5202 - mean_squared_error: 9.5202 - mean_absolute_error: 2.2192 - val_loss: 24.2988 - val_mean_squared_error: 24.2988 - val_mean_absolute_error: 3.2468\n",
      "Epoch 25/75\n",
      "404/404 [==============================] - 0s 230us/sample - loss: 9.3688 - mean_squared_error: 9.3688 - mean_absolute_error: 2.1861 - val_loss: 22.9003 - val_mean_squared_error: 22.9003 - val_mean_absolute_error: 3.1248\n",
      "Epoch 26/75\n",
      "404/404 [==============================] - 0s 224us/sample - loss: 9.0896 - mean_squared_error: 9.0896 - mean_absolute_error: 2.1637 - val_loss: 22.8758 - val_mean_squared_error: 22.8758 - val_mean_absolute_error: 3.1059\n",
      "Epoch 27/75\n",
      "404/404 [==============================] - 0s 228us/sample - loss: 9.1043 - mean_squared_error: 9.1043 - mean_absolute_error: 2.1657 - val_loss: 23.3980 - val_mean_squared_error: 23.3980 - val_mean_absolute_error: 3.1230\n",
      "Epoch 28/75\n",
      "404/404 [==============================] - 0s 241us/sample - loss: 8.9814 - mean_squared_error: 8.9814 - mean_absolute_error: 2.1414 - val_loss: 21.3994 - val_mean_squared_error: 21.3994 - val_mean_absolute_error: 2.9961\n",
      "Epoch 29/75\n",
      "404/404 [==============================] - 0s 232us/sample - loss: 8.7775 - mean_squared_error: 8.7775 - mean_absolute_error: 2.1357 - val_loss: 22.4219 - val_mean_squared_error: 22.4219 - val_mean_absolute_error: 3.0145\n",
      "Epoch 30/75\n",
      "404/404 [==============================] - 0s 230us/sample - loss: 8.6187 - mean_squared_error: 8.6187 - mean_absolute_error: 2.0898 - val_loss: 23.2081 - val_mean_squared_error: 23.2081 - val_mean_absolute_error: 3.1158\n",
      "Epoch 31/75\n",
      "404/404 [==============================] - 0s 225us/sample - loss: 8.5525 - mean_squared_error: 8.5525 - mean_absolute_error: 2.0871 - val_loss: 22.9036 - val_mean_squared_error: 22.9036 - val_mean_absolute_error: 3.0841\n",
      "Epoch 32/75\n",
      "404/404 [==============================] - 0s 224us/sample - loss: 8.5687 - mean_squared_error: 8.5687 - mean_absolute_error: 2.0963 - val_loss: 22.0512 - val_mean_squared_error: 22.0512 - val_mean_absolute_error: 2.9881\n",
      "Epoch 33/75\n",
      "404/404 [==============================] - 0s 225us/sample - loss: 8.3509 - mean_squared_error: 8.3509 - mean_absolute_error: 2.0630 - val_loss: 22.3492 - val_mean_squared_error: 22.3492 - val_mean_absolute_error: 3.0045\n",
      "Epoch 34/75\n",
      "404/404 [==============================] - 0s 226us/sample - loss: 8.3279 - mean_squared_error: 8.3279 - mean_absolute_error: 2.0627 - val_loss: 21.8959 - val_mean_squared_error: 21.8959 - val_mean_absolute_error: 2.9713\n",
      "Epoch 35/75\n",
      "404/404 [==============================] - 0s 225us/sample - loss: 8.2793 - mean_squared_error: 8.2793 - mean_absolute_error: 2.0424 - val_loss: 21.3017 - val_mean_squared_error: 21.3017 - val_mean_absolute_error: 3.0015\n"
     ]
    },
    {
     "name": "stdout",
     "output_type": "stream",
     "text": [
      "Epoch 36/75\n",
      "404/404 [==============================] - 0s 224us/sample - loss: 8.0038 - mean_squared_error: 8.0038 - mean_absolute_error: 2.0115 - val_loss: 21.4413 - val_mean_squared_error: 21.4413 - val_mean_absolute_error: 2.9411\n",
      "Epoch 37/75\n",
      "404/404 [==============================] - 0s 229us/sample - loss: 8.0734 - mean_squared_error: 8.0734 - mean_absolute_error: 2.0167 - val_loss: 22.5929 - val_mean_squared_error: 22.5929 - val_mean_absolute_error: 3.0778\n",
      "Epoch 38/75\n",
      "404/404 [==============================] - 0s 233us/sample - loss: 8.1488 - mean_squared_error: 8.1488 - mean_absolute_error: 2.0483 - val_loss: 22.2300 - val_mean_squared_error: 22.2299 - val_mean_absolute_error: 3.0016\n",
      "Epoch 39/75\n",
      "404/404 [==============================] - 0s 226us/sample - loss: 7.7500 - mean_squared_error: 7.7500 - mean_absolute_error: 1.9973 - val_loss: 20.4903 - val_mean_squared_error: 20.4903 - val_mean_absolute_error: 2.8503\n",
      "Epoch 40/75\n",
      "404/404 [==============================] - 0s 222us/sample - loss: 7.6147 - mean_squared_error: 7.6147 - mean_absolute_error: 1.9674 - val_loss: 21.3587 - val_mean_squared_error: 21.3587 - val_mean_absolute_error: 2.9826\n",
      "Epoch 41/75\n",
      "404/404 [==============================] - 0s 234us/sample - loss: 7.6225 - mean_squared_error: 7.6225 - mean_absolute_error: 1.9753 - val_loss: 19.9827 - val_mean_squared_error: 19.9827 - val_mean_absolute_error: 2.8146\n",
      "Epoch 42/75\n",
      "404/404 [==============================] - 0s 227us/sample - loss: 7.4888 - mean_squared_error: 7.4888 - mean_absolute_error: 1.9604 - val_loss: 20.3606 - val_mean_squared_error: 20.3606 - val_mean_absolute_error: 2.9384\n",
      "Epoch 43/75\n",
      "404/404 [==============================] - 0s 235us/sample - loss: 7.4371 - mean_squared_error: 7.4371 - mean_absolute_error: 1.9389 - val_loss: 20.2127 - val_mean_squared_error: 20.2127 - val_mean_absolute_error: 2.8215\n",
      "Epoch 44/75\n",
      "404/404 [==============================] - 0s 231us/sample - loss: 7.3104 - mean_squared_error: 7.3104 - mean_absolute_error: 1.9319 - val_loss: 19.8104 - val_mean_squared_error: 19.8104 - val_mean_absolute_error: 2.7950\n",
      "Epoch 45/75\n",
      "404/404 [==============================] - 0s 232us/sample - loss: 7.3744 - mean_squared_error: 7.3744 - mean_absolute_error: 1.9110 - val_loss: 21.2717 - val_mean_squared_error: 21.2717 - val_mean_absolute_error: 2.9031\n",
      "Epoch 46/75\n",
      "404/404 [==============================] - 0s 235us/sample - loss: 7.3225 - mean_squared_error: 7.3225 - mean_absolute_error: 1.9401 - val_loss: 19.3132 - val_mean_squared_error: 19.3132 - val_mean_absolute_error: 2.7919\n",
      "Epoch 47/75\n",
      "404/404 [==============================] - 0s 228us/sample - loss: 7.0216 - mean_squared_error: 7.0216 - mean_absolute_error: 1.8999 - val_loss: 20.1434 - val_mean_squared_error: 20.1434 - val_mean_absolute_error: 2.8392\n",
      "Epoch 48/75\n",
      "404/404 [==============================] - 0s 225us/sample - loss: 7.1902 - mean_squared_error: 7.1902 - mean_absolute_error: 1.9177 - val_loss: 19.8486 - val_mean_squared_error: 19.8486 - val_mean_absolute_error: 2.7714\n",
      "Epoch 49/75\n",
      "404/404 [==============================] - 0s 230us/sample - loss: 7.0107 - mean_squared_error: 7.0107 - mean_absolute_error: 1.9108 - val_loss: 19.2026 - val_mean_squared_error: 19.2026 - val_mean_absolute_error: 2.7230\n",
      "Epoch 50/75\n",
      "404/404 [==============================] - 0s 229us/sample - loss: 6.8064 - mean_squared_error: 6.8064 - mean_absolute_error: 1.8510 - val_loss: 18.9762 - val_mean_squared_error: 18.9762 - val_mean_absolute_error: 2.7504\n",
      "Epoch 51/75\n",
      "404/404 [==============================] - 0s 225us/sample - loss: 6.8703 - mean_squared_error: 6.8703 - mean_absolute_error: 1.8736 - val_loss: 19.2867 - val_mean_squared_error: 19.2867 - val_mean_absolute_error: 2.7571\n",
      "Epoch 52/75\n",
      "404/404 [==============================] - 0s 230us/sample - loss: 6.7057 - mean_squared_error: 6.7057 - mean_absolute_error: 1.8787 - val_loss: 18.8774 - val_mean_squared_error: 18.8774 - val_mean_absolute_error: 2.8354\n",
      "Epoch 53/75\n",
      "404/404 [==============================] - 0s 229us/sample - loss: 6.9075 - mean_squared_error: 6.9075 - mean_absolute_error: 1.8702 - val_loss: 18.6243 - val_mean_squared_error: 18.6243 - val_mean_absolute_error: 2.6969\n",
      "Epoch 54/75\n",
      "404/404 [==============================] - 0s 230us/sample - loss: 6.7599 - mean_squared_error: 6.7599 - mean_absolute_error: 1.8627 - val_loss: 18.4459 - val_mean_squared_error: 18.4459 - val_mean_absolute_error: 2.7396\n",
      "Epoch 55/75\n",
      "404/404 [==============================] - 0s 234us/sample - loss: 6.4922 - mean_squared_error: 6.4922 - mean_absolute_error: 1.8151 - val_loss: 17.9206 - val_mean_squared_error: 17.9206 - val_mean_absolute_error: 2.6845\n",
      "Epoch 56/75\n",
      "404/404 [==============================] - 0s 232us/sample - loss: 6.3992 - mean_squared_error: 6.3992 - mean_absolute_error: 1.8031 - val_loss: 18.5198 - val_mean_squared_error: 18.5198 - val_mean_absolute_error: 2.7588\n",
      "Epoch 57/75\n",
      "404/404 [==============================] - 0s 233us/sample - loss: 6.4041 - mean_squared_error: 6.4041 - mean_absolute_error: 1.8200 - val_loss: 19.4619 - val_mean_squared_error: 19.4619 - val_mean_absolute_error: 2.8025\n",
      "Epoch 58/75\n",
      "404/404 [==============================] - 0s 236us/sample - loss: 6.5073 - mean_squared_error: 6.5073 - mean_absolute_error: 1.7909 - val_loss: 20.8437 - val_mean_squared_error: 20.8437 - val_mean_absolute_error: 2.9055\n",
      "Epoch 59/75\n",
      "404/404 [==============================] - 0s 230us/sample - loss: 6.3567 - mean_squared_error: 6.3567 - mean_absolute_error: 1.8243 - val_loss: 18.5108 - val_mean_squared_error: 18.5108 - val_mean_absolute_error: 2.7501\n",
      "Epoch 60/75\n",
      "404/404 [==============================] - 0s 214us/sample - loss: 6.1919 - mean_squared_error: 6.1919 - mean_absolute_error: 1.7866 - val_loss: 18.0963 - val_mean_squared_error: 18.0963 - val_mean_absolute_error: 2.6492\n",
      "Epoch 61/75\n",
      "404/404 [==============================] - 0s 190us/sample - loss: 6.1332 - mean_squared_error: 6.1332 - mean_absolute_error: 1.7651 - val_loss: 17.5527 - val_mean_squared_error: 17.5527 - val_mean_absolute_error: 2.6524\n",
      "Epoch 62/75\n",
      "404/404 [==============================] - 0s 188us/sample - loss: 6.2062 - mean_squared_error: 6.2062 - mean_absolute_error: 1.7989 - val_loss: 17.4123 - val_mean_squared_error: 17.4123 - val_mean_absolute_error: 2.6511\n",
      "Epoch 63/75\n",
      "404/404 [==============================] - 0s 200us/sample - loss: 6.0298 - mean_squared_error: 6.0298 - mean_absolute_error: 1.7357 - val_loss: 17.3785 - val_mean_squared_error: 17.3785 - val_mean_absolute_error: 2.6510\n",
      "Epoch 64/75\n",
      "404/404 [==============================] - 0s 192us/sample - loss: 5.7512 - mean_squared_error: 5.7512 - mean_absolute_error: 1.7081 - val_loss: 18.5943 - val_mean_squared_error: 18.5943 - val_mean_absolute_error: 2.7698\n",
      "Epoch 65/75\n",
      "404/404 [==============================] - 0s 198us/sample - loss: 5.8022 - mean_squared_error: 5.8022 - mean_absolute_error: 1.7423 - val_loss: 17.8202 - val_mean_squared_error: 17.8202 - val_mean_absolute_error: 2.6608\n",
      "Epoch 66/75\n",
      "404/404 [==============================] - 0s 194us/sample - loss: 5.7403 - mean_squared_error: 5.7403 - mean_absolute_error: 1.7293 - val_loss: 17.2898 - val_mean_squared_error: 17.2898 - val_mean_absolute_error: 2.6507\n",
      "Epoch 67/75\n",
      "404/404 [==============================] - 0s 189us/sample - loss: 5.6579 - mean_squared_error: 5.6579 - mean_absolute_error: 1.6828 - val_loss: 18.1967 - val_mean_squared_error: 18.1967 - val_mean_absolute_error: 2.6952\n",
      "Epoch 68/75\n",
      "404/404 [==============================] - 0s 193us/sample - loss: 5.8481 - mean_squared_error: 5.8481 - mean_absolute_error: 1.7483 - val_loss: 18.3658 - val_mean_squared_error: 18.3657 - val_mean_absolute_error: 2.7384\n",
      "Epoch 69/75\n",
      "404/404 [==============================] - 0s 185us/sample - loss: 5.4583 - mean_squared_error: 5.4583 - mean_absolute_error: 1.6747 - val_loss: 16.8630 - val_mean_squared_error: 16.8630 - val_mean_absolute_error: 2.6028\n",
      "Epoch 70/75\n",
      "404/404 [==============================] - 0s 194us/sample - loss: 5.8953 - mean_squared_error: 5.8953 - mean_absolute_error: 1.7649 - val_loss: 16.6250 - val_mean_squared_error: 16.6250 - val_mean_absolute_error: 2.5733\n",
      "Epoch 71/75\n"
     ]
    },
    {
     "name": "stdout",
     "output_type": "stream",
     "text": [
      "404/404 [==============================] - 0s 190us/sample - loss: 5.7450 - mean_squared_error: 5.7450 - mean_absolute_error: 1.7069 - val_loss: 16.9510 - val_mean_squared_error: 16.9510 - val_mean_absolute_error: 2.6608\n",
      "Epoch 72/75\n",
      "404/404 [==============================] - 0s 192us/sample - loss: 5.6127 - mean_squared_error: 5.6127 - mean_absolute_error: 1.7045 - val_loss: 17.1364 - val_mean_squared_error: 17.1364 - val_mean_absolute_error: 2.6203\n",
      "Epoch 73/75\n",
      "404/404 [==============================] - 0s 188us/sample - loss: 5.5017 - mean_squared_error: 5.5017 - mean_absolute_error: 1.6546 - val_loss: 15.9293 - val_mean_squared_error: 15.9293 - val_mean_absolute_error: 2.5286\n",
      "Epoch 74/75\n",
      "404/404 [==============================] - 0s 185us/sample - loss: 5.5519 - mean_squared_error: 5.5519 - mean_absolute_error: 1.7235 - val_loss: 17.1071 - val_mean_squared_error: 17.1071 - val_mean_absolute_error: 2.6467\n",
      "Epoch 75/75\n",
      "404/404 [==============================] - 0s 188us/sample - loss: 5.2502 - mean_squared_error: 5.2502 - mean_absolute_error: 1.6632 - val_loss: 16.0236 - val_mean_squared_error: 16.0236 - val_mean_absolute_error: 2.5885\n"
     ]
    },
    {
     "data": {
      "text/plain": [
       "<tensorflow.python.keras.callbacks.History at 0x7fa53c041828>"
      ]
     },
     "execution_count": 6,
     "metadata": {},
     "output_type": "execute_result"
    }
   ],
   "source": [
    "from tensorflow import keras\n",
    "from tensorflow.keras.models import Sequential\n",
    "from tensorflow.keras.layers import Dense\n",
    "\n",
    "# Important Hyperparameters\n",
    "inputs = x_train.shape[1]\n",
    "epochs = 75\n",
    "batch_size = 10\n",
    "\n",
    "\n",
    "# Create Model\n",
    "model = Sequential()\n",
    "model.add(Dense(64, activation='relu', input_shape=(inputs,)))\n",
    "model.add(Dense(64, activation='relu'))\n",
    "model.add(Dense(1))\n",
    "\n",
    "# Compile Model\n",
    "model.compile(optimizer='adam', loss='mse', metrics=['mse', 'mae'])\n",
    "\n",
    "# Fit Model\n",
    "model.fit(x_train, y_train, \n",
    "          validation_data=(x_test,y_test), \n",
    "          epochs=epochs, \n",
    "          batch_size=batch_size\n",
    "         )"
   ]
  },
  {
   "cell_type": "markdown",
   "metadata": {
    "colab_type": "text",
    "id": "sYJ8t_ezHP4W"
   },
   "source": [
    "### Hyperparameter Tuning Approaches:\n",
    "\n",
    "#### 1) Babysitting AKA \"Grad Student Descent\".\n",
    "\n",
    "If you fiddled with any hyperparameters yesterday, this is basically what you did. This approach is 100% manual and is pretty common among researchers where finding that 1 exact specification that jumps your model to a level of accuracy never seen before is the difference between publishing and not publishing a paper. Of course the professors don't do this themselves, that's grunt work. This is also known as the fiddle with hyperparameters until you run out of time method.\n",
    "\n",
    "#### 2) Grid Search\n",
    "\n",
    "Grid Search is the Grad Student galaxy brain realization of: why don't I just specify all the experiments I want to run and let the computer try every possible combination of them while I go and grab lunch. This has a specific downside in that if I specify 5 hyperparameters with 5 options each then I've just created 5^5 combinations of hyperparameters to check. Which means that I have to train 3125 different versions of my model Then if I use 5-fold Cross Validation on that then my model has to run 15,525 times. This is the brute-force method of hyperparameter tuning, but it can be very profitable if done wisely. \n",
    "\n",
    "When using Grid Search here's what I suggest: don't use it to test combinations of different hyperparameters, only use it to test different specifications of **a single** hyperparameter. It's rare that combinations between different hyperparameters lead to big performance gains. You'll get 90-95% of the way there if you just Grid Search one parameter and take the best result, then retain that best result while you test another, and then retain the best specification from that while you train another. This at least makes the situation much more manageable and leads to pretty good results. \n",
    "\n",
    "#### 3) Random Search\n",
    "\n",
    "Do Grid Search for a couple of hours and you'll say to yourself - \"There's got to be a better way.\" Enter Random Search. For Random search you specify a hyperparameter space and it picks specifications from that randomly, tries them out, gives you the best results and says - That's going to have to be good enough, go home and spend time with your family. \n",
    "\n",
    "Grid Search treats every parameter as if it was equally important, but this just isn't the case, some are known to move the needle a lot more than others (we'll talk about that in a minute). Random Search allows searching to be specified along the most important parameter and experiments less along the dimensions of less important hyperparameters. The downside of Random search is that it won't find the absolute best hyperparameters, but it is much less costly to perform than Grid Search. \n",
    "\n",
    "#### 4) Bayesian Methods\n",
    "\n",
    "One thing that can make more manual methods like babysitting and gridsearch effective is that as the experimenter sees results he can then make updates to his future searches taking into account the results of past specifications. If only we could hyperparameter tune our hyperparameter tuning. Well, we kind of can. Enter Bayesian Optimization. Neural Networks are like an optimization problem within an optimization problem, and Bayesian Optimization is a search strategy that tries to take into account the results of past searches in order to improve future ones. This is the most advanced method but can be a little bit tricky to implement, but there are some early steps with `hyperas` which is Bayesian optimization wrapper for `keras`. "
   ]
  },
  {
   "cell_type": "markdown",
   "metadata": {
    "colab_type": "text",
    "id": "HfQ7D043OMMn"
   },
   "source": [
    "## What Hyperparameters are there to test?\n",
    "\n",
    "- batch_size\n",
    "- training epochs\n",
    "- optimization algorithms\n",
    "- learning rate\n",
    "- momentum\n",
    "- activation functions\n",
    "- dropout regularization\n",
    "- number of neurons in the hidden layer\n",
    "\n",
    "There are more, but these are the most important."
   ]
  },
  {
   "cell_type": "markdown",
   "metadata": {},
   "source": [
    "## Follow Along"
   ]
  },
  {
   "cell_type": "markdown",
   "metadata": {
    "colab_type": "text",
    "id": "Mri5-kXzVKAa"
   },
   "source": [
    "## Batch Size\n",
    "\n",
    "Batch size determines how many observations the model is shown before it calculates loss/error and updates the model weights via gradient descent. You're looking for a sweet spot here where you're showing it enough observations that you have enough information to updates the weights, but not such a large batch size that you don't get a lot of weight update iterations performed in a given epoch. Feed-forward Neural Networks aren't as sensitive to bach_size as other networks, but it is still an important hyperparameter to tune. Smaller batch sizes will also take longer to train. "
   ]
  },
  {
   "cell_type": "code",
   "execution_count": 7,
   "metadata": {
    "colab": {
     "base_uri": "https://localhost:8080/",
     "height": 13561
    },
    "colab_type": "code",
    "id": "2smXfriNAGn7",
    "outputId": "ae996575-78e2-43fb-9dbe-5d44aaf0b430"
   },
   "outputs": [
    {
     "name": "stdout",
     "output_type": "stream",
     "text": [
      "WARNING:tensorflow:From /home/ec2-user/anaconda3/envs/tensorflow_p36/lib/python3.6/site-packages/tensorflow/python/ops/nn_impl.py:180: add_dispatch_support.<locals>.wrapper (from tensorflow.python.ops.array_ops) is deprecated and will be removed in a future version.\n",
      "Instructions for updating:\n",
      "Use tf.where in 2.0, which has the same broadcast rule as np.where\n"
     ]
    },
    {
     "name": "stderr",
     "output_type": "stream",
     "text": [
      "/home/ec2-user/anaconda3/envs/tensorflow_p36/lib/python3.6/site-packages/sklearn/model_selection/_split.py:1978: FutureWarning: The default value of cv will change from 3 to 5 in version 0.22. Specify it explicitly to silence this warning.\n",
      "  warnings.warn(CV_WARNING, FutureWarning)\n"
     ]
    },
    {
     "name": "stdout",
     "output_type": "stream",
     "text": [
      "Best: 0.6341145833333334 using {'batch_size': 80, 'epochs': 20}\n",
      "Means: 0.62890625, Stdev: 0.024910320924100247 with: {'batch_size': 10, 'epochs': 20}\n",
      "Means: 0.6145833333333334, Stdev: 0.0681326846455788 with: {'batch_size': 20, 'epochs': 20}\n",
      "Means: 0.55859375, Stdev: 0.048159484398195125 with: {'batch_size': 40, 'epochs': 20}\n",
      "Means: 0.5690104166666666, Stdev: 0.08379996307137545 with: {'batch_size': 60, 'epochs': 20}\n",
      "Means: 0.6341145833333334, Stdev: 0.025581878521339193 with: {'batch_size': 80, 'epochs': 20}\n",
      "Means: 0.57421875, Stdev: 0.020914555213813815 with: {'batch_size': 100, 'epochs': 20}\n"
     ]
    }
   ],
   "source": [
    "import numpy\n",
    "import pandas as pd\n",
    "from sklearn.model_selection import GridSearchCV\n",
    "from tensorflow.keras.models import Sequential\n",
    "from tensorflow.keras.layers import Dense\n",
    "from tensorflow.keras.wrappers.scikit_learn import KerasClassifier\n",
    "\n",
    "# fix random seed for reproducibility\n",
    "seed = 7\n",
    "numpy.random.seed(seed)\n",
    "\n",
    "# load dataset\n",
    "url =\"https://raw.githubusercontent.com/jbrownlee/Datasets/master/pima-indians-diabetes.data.csv\"\n",
    "\n",
    "dataset = pd.read_csv(url, header=None).values\n",
    "\n",
    "# split into input (X) and output (Y) variables\n",
    "X = dataset[:,0:8]\n",
    "Y = dataset[:,8]\n",
    "\n",
    "# Function to create model, required for KerasClassifier\n",
    "def create_model():\n",
    "    # create model\n",
    "    model = Sequential()\n",
    "    model.add(Dense(12, input_dim=8, activation='relu'))\n",
    "    model.add(Dense(1, activation='sigmoid'))\n",
    "    # Compile model\n",
    "    model.compile(loss='binary_crossentropy', optimizer='adam', metrics=['accuracy'])\n",
    "    return model\n",
    "\n",
    "# create model\n",
    "model = KerasClassifier(build_fn=create_model, verbose=0)\n",
    "\n",
    "# define the grid search parameters\n",
    "# batch_size = [10, 20, 40, 60, 80, 100]\n",
    "# param_grid = dict(batch_size=batch_size, epochs=epochs)\n",
    "\n",
    "# define the grid search parameters\n",
    "param_grid = {'batch_size': [10, 20, 40, 60, 80, 100],\n",
    "              'epochs': [20]}\n",
    "\n",
    "# Create Grid Search\n",
    "grid = GridSearchCV(estimator=model, param_grid=param_grid, n_jobs=1)\n",
    "grid_result = grid.fit(X, Y)\n",
    "\n",
    "# Report Results\n",
    "print(f\"Best: {grid_result.best_score_} using {grid_result.best_params_}\")\n",
    "means = grid_result.cv_results_['mean_test_score']\n",
    "stds = grid_result.cv_results_['std_test_score']\n",
    "params = grid_result.cv_results_['params']\n",
    "for mean, stdev, param in zip(means, stds, params):\n",
    "    print(f\"Means: {mean}, Stdev: {stdev} with: {param}\") "
   ]
  },
  {
   "cell_type": "markdown",
   "metadata": {
    "colab_type": "text",
    "id": "pmABfjlvXbqi"
   },
   "source": [
    "## Epochs\n",
    "\n",
    "The number of training epochs has a large and direct affect on the accuracy, However, more epochs is almost always goign to better than less epochs. This means that if you tune this parameter at the beginning and try and maintain the same value all throughout your training, you're going to be waiting a long time for each iteration of GridSearch. I suggest picking a fixed moderat # of epochs all throughout your training and then Grid Searching this parameter at the very end. "
   ]
  },
  {
   "cell_type": "code",
   "execution_count": 8,
   "metadata": {
    "colab": {
     "base_uri": "https://localhost:8080/",
     "height": 26329
    },
    "colab_type": "code",
    "id": "bAmxP3N7TmFh",
    "outputId": "3ddb08c4-51ac-4eaa-ff39-143397024544"
   },
   "outputs": [
    {
     "name": "stderr",
     "output_type": "stream",
     "text": [
      "/home/ec2-user/anaconda3/envs/tensorflow_p36/lib/python3.6/site-packages/sklearn/model_selection/_split.py:1978: FutureWarning: The default value of cv will change from 3 to 5 in version 0.22. Specify it explicitly to silence this warning.\n",
      "  warnings.warn(CV_WARNING, FutureWarning)\n"
     ]
    },
    {
     "name": "stdout",
     "output_type": "stream",
     "text": [
      "Best: 0.7018229166666666 using {'batch_size': 20, 'epochs': 200}\n",
      "Means: 0.6067708333333334, Stdev: 0.016053161466065044 with: {'batch_size': 20, 'epochs': 20}\n",
      "Means: 0.6158854166666666, Stdev: 0.04247267299557315 with: {'batch_size': 20, 'epochs': 40}\n",
      "Means: 0.66015625, Stdev: 0.0318943976924893 with: {'batch_size': 20, 'epochs': 60}\n",
      "Means: 0.7018229166666666, Stdev: 0.03097754493065187 with: {'batch_size': 20, 'epochs': 200}\n"
     ]
    }
   ],
   "source": [
    "# define the grid search parameters\n",
    "param_grid = {'batch_size': [20],\n",
    "              'epochs': [20, 40, 60,200]}\n",
    "\n",
    "# Create Grid Search\n",
    "grid = GridSearchCV(estimator=model, param_grid=param_grid, n_jobs=1)\n",
    "grid_result = grid.fit(X, Y)\n",
    "\n",
    "# Report Results\n",
    "print(f\"Best: {grid_result.best_score_} using {grid_result.best_params_}\")\n",
    "means = grid_result.cv_results_['mean_test_score']\n",
    "stds = grid_result.cv_results_['std_test_score']\n",
    "params = grid_result.cv_results_['params']\n",
    "for mean, stdev, param in zip(means, stds, params):\n",
    "    print(f\"Means: {mean}, Stdev: {stdev} with: {param}\")"
   ]
  },
  {
   "cell_type": "markdown",
   "metadata": {
    "colab_type": "text",
    "id": "EKcuY6OiaLfz"
   },
   "source": [
    "## Optimizer\n",
    "\n",
    "Remember that there's a different optimizers [optimizers](https://keras.io/optimizers/). At some point, take some time to read up on them a little bit. \"adam\" usually gives the best results. The thing to know about choosing an optimizer is that different optimizers have different hyperparameters like learning rate, momentum, etc. So based on the optimizer you choose you might also have to tune the learning rate and momentum of those optimizers after that. "
   ]
  },
  {
   "cell_type": "markdown",
   "metadata": {
    "colab_type": "text",
    "id": "DG3wq5iOaLig"
   },
   "source": [
    "## Learning Rate\n",
    "\n",
    "Remember that the Learning Rate is a hyperparameter that is specific to your gradient-descent based optimizer selection. A learning rate that is too high will cause divergent behavior, but a Learning Rate that is too low will fail to converge, again, you're looking for the sweet spot. I would start out tuning learning rates by orders of magnitude: [.001, .01, .1, .2, .3, .5] etc. I wouldn't go above .5, but you can try it and see what the behavior is like. \n",
    "\n",
    "Once you have narrowed it down, make the window even smaller and try it again. If after running the above specification your model reports that .1 is the best optimizer, then you should probably try things like [.05, .08, .1, .12, .15] to try and narrow it down. \n",
    "\n",
    "It can also be good to tune the number of epochs in combination with the learning rate since the number of iterations that you allow the learning rate to reach the minimum can determine if you have let it run long enough to converge to the minimum. "
   ]
  },
  {
   "cell_type": "markdown",
   "metadata": {
    "colab_type": "text",
    "id": "gNTBUWd1aLlA"
   },
   "source": [
    "## Momentum\n",
    "\n",
    "Momentum is a hyperparameter that is more commonly associated with Stochastic Gradient Descent. SGD is a common optimizer because it's what people understand and know, but I doubt it will get you the best results, you can try hyperparameter tuning its attributes and see if you can beat the performance from adam. Momentum is a property that decides the willingness of an optimizer to overshoot the minimum. Imagine a ball rolling down one side of a bowl and then up the opposite side a little bit before settling back to the bottom. The purpose of momentum is to try and escale local minima."
   ]
  },
  {
   "cell_type": "markdown",
   "metadata": {
    "colab_type": "text",
    "id": "xnEG-bCJaLnZ"
   },
   "source": [
    "## Activation Functions\n",
    "\n",
    "We've talked about this a little bit, typically you'l want to use ReLU for hidden layers and either Sigmoid, or Softmax for output layers of binary and multi-class classification implementations respectively, but try other activation functions and see if you can get any better results with sigmoid or tanh or something. There are a lot of activation functions that we haven't really talked about. Maybe you'll get good results with them. Maybe you won't. :) <https://keras.io/activations/>"
   ]
  },
  {
   "cell_type": "markdown",
   "metadata": {
    "colab_type": "text",
    "id": "oul9sPq-dU-h"
   },
   "source": [
    "## Network Weight Initialization\n",
    "\n",
    "You saw how big of an effect the way that we initialize our network's weights can have on our results. There are **a lot** of what are called initialization modes. I don't understand all of them, but they can have a big affect on your model's initial accuracy. Your model will get further with less epochs if you initialize it with weights that are well suited to the problem you're trying to solve.\n",
    "\n",
    "`init_mode = ['uniform', 'lecun_uniform', 'normal', 'zero', 'glorot_normal', 'glorot_uniform', 'he_normal', 'he_uniform']`"
   ]
  },
  {
   "cell_type": "markdown",
   "metadata": {
    "colab_type": "text",
    "id": "bqtEuxeQaLqE"
   },
   "source": [
    "## Dropout Regularization and the Weight Constraint\n",
    "\n",
    "the Dropout Regularization value is a percentage of neurons that you want to be randomly deactivated during training. The weight constraint is a second regularization parameter that works in tandem with dropout regularization. You should tune these two values at the same time. \n",
    "\n",
    "Using dropout on visible vs hidden layers might have a different effect. Using dropout on hidden layers might not have any effect while using dropout on hidden layers might have a substantial effect. You don't necessarily need to turn use dropout unless you see that your model has overfitting and generalizability problems."
   ]
  },
  {
   "cell_type": "markdown",
   "metadata": {
    "colab_type": "text",
    "id": "P2c5Cv6oaLtO"
   },
   "source": [
    "## Neurons in Hidden Layer \n",
    "\n",
    "Remember that when we only had a single perceptron our model was only able to fit to linearly separable data, but as we have added layers and nodes to those layers our network has become a powerhouse of fitting nonlinearity in data. The larger the network and the more nodes generally the stronger the network's capacity to fit nonlinear patterns in data. The more nodes and layers the longer it will take to train a network, and higher the probability of overfitting. The larger your network gets the more you'll need dropout regularization or other regularization techniques to keep it in check. \n",
    "\n",
    "Typically depth (more layers) is more important than width (more nodes) for neural networks. This is part of why Deep Learning is so highly touted. Certain deep learning architectures have truly been huge breakthroughs for certain machine learning tasks. \n",
    "\n",
    "You might borrow ideas from other network architectures. For example if I was doing image recognition and I wasn't taking cues from state of the art architectures like resnet, alexnet, googlenet, etc. Then I'm probably going to have to do a lot more experimentation on my own before I find something that works.\n",
    "\n",
    "There are some heuristics, but I am highly skeptical of them. I think you're better off experimenting on your own and forming your own intuition for these kinds of problems. \n",
    "\n",
    "- https://machinelearningmastery.com/how-to-configure-the-number-of-layers-and-nodes-in-a-neural-network/"
   ]
  },
  {
   "cell_type": "markdown",
   "metadata": {},
   "source": [
    "## Challenge\n",
    "You will be expected to tune several hyperparameters in today's module project. "
   ]
  },
  {
   "cell_type": "markdown",
   "metadata": {},
   "source": [
    "# Experiment Tracking Framework (Learn)\n",
    "<a id=\"p2\"></a>"
   ]
  },
  {
   "cell_type": "markdown",
   "metadata": {},
   "source": [
    "## Overview\n",
    "\n",
    "You will notice quickly that managing the results of all the experiments you are running becomes challenging. Which set of parameters did the best? Are my results today different than my results yesterday? Although we use Ipython Notebooks to work, the format is not well suited to logging experimental results. Enter experiment tracking frameworks like [Comet.ml](https://comet.ml) and [Weights and Biases](https://wandb.ai/).\n",
    "\n",
    "Those tools will help you track your experiments, store the results, and the code associated with those experiments. Experimental results can also be readily visualized to see changes in performance across any metric you care about. Data is sent to the tool as each epoch is completed, so you can also see if your model is converging. Let's check out Weights & Biases today. "
   ]
  },
  {
   "cell_type": "markdown",
   "metadata": {},
   "source": [
    "## Follow Along\n",
    "\n",
    "Make sure you login into `wandb` in the terminal before running the next cell. "
   ]
  },
  {
   "cell_type": "code",
   "execution_count": 9,
   "metadata": {},
   "outputs": [
    {
     "name": "stdout",
     "output_type": "stream",
     "text": [
      "\u001b[34m\u001b[1mwandb\u001b[0m: Appending key for api.wandb.ai to your netrc file: /home/ec2-user/.netrc\r\n",
      "\u001b[32mSuccessfully logged in to Weights & Biases!\u001b[0m\r\n"
     ]
    }
   ],
   "source": [
    "!wandb login 6ecedeb53dd83ce174c9c2ea5a3ca50bd8773c51"
   ]
  },
  {
   "cell_type": "code",
   "execution_count": 10,
   "metadata": {},
   "outputs": [],
   "source": [
    "import wandb\n",
    "from wandb.keras import WandbCallback"
   ]
  },
  {
   "cell_type": "code",
   "execution_count": null,
   "metadata": {},
   "outputs": [],
   "source": []
  },
  {
   "cell_type": "code",
   "execution_count": 11,
   "metadata": {
    "colab": {
     "base_uri": "https://localhost:8080/",
     "height": 1750
    },
    "colab_type": "code",
    "id": "GMXVfmzXp1Oo",
    "outputId": "b05e251e-508f-46e6-865b-f869ae2a5dc4"
   },
   "outputs": [
    {
     "data": {
      "text/html": [
       "\n",
       "                Logging results to <a href=\"https://wandb.com\" target=\"_blank\">Weights & Biases</a> <a href=\"https://docs.wandb.com/integrations/jupyter.html\" target=\"_blank\">(Documentation)</a>.<br/>\n",
       "                Project page: <a href=\"https://app.wandb.ai/ds8/inclass\" target=\"_blank\">https://app.wandb.ai/ds8/inclass</a><br/>\n",
       "                Run page: <a href=\"https://app.wandb.ai/ds8/inclass/runs/bvij18e8\" target=\"_blank\">https://app.wandb.ai/ds8/inclass/runs/bvij18e8</a><br/>\n",
       "            "
      ],
      "text/plain": [
       "<IPython.core.display.HTML object>"
      ]
     },
     "metadata": {},
     "output_type": "display_data"
    },
    {
     "name": "stderr",
     "output_type": "stream",
     "text": [
      "Failed to query for notebook name, you can set it manually with the WANDB_NOTEBOOK_NAME environment variable\n",
      "Error generating diff: Command '['git', 'diff', '--submodule=diff', 'HEAD']' timed out after 5 seconds\n"
     ]
    },
    {
     "name": "stdout",
     "output_type": "stream",
     "text": [
      "Train on 270 samples, validate on 134 samples\n",
      "Epoch 1/50\n",
      "270/270 [==============================] - 6s 21ms/sample - loss: 473.5399 - mean_squared_error: 473.5399 - mean_absolute_error: 20.0210 - val_loss: 431.9909 - val_mean_squared_error: 431.9908 - val_mean_absolute_error: 18.6214\n",
      "Epoch 2/50\n",
      "270/270 [==============================] - 0s 1ms/sample - loss: 188.5824 - mean_squared_error: 188.5824 - mean_absolute_error: 10.9914 - val_loss: 103.1203 - val_mean_squared_error: 103.1203 - val_mean_absolute_error: 7.9546\n",
      "Epoch 3/50\n",
      "270/270 [==============================] - 0s 1ms/sample - loss: 56.5610 - mean_squared_error: 56.5611 - mean_absolute_error: 5.5553 - val_loss: 64.0316 - val_mean_squared_error: 64.0316 - val_mean_absolute_error: 5.7303\n",
      "Epoch 4/50\n",
      "270/270 [==============================] - 0s 1ms/sample - loss: 30.8438 - mean_squared_error: 30.8438 - mean_absolute_error: 4.0610 - val_loss: 37.8947 - val_mean_squared_error: 37.8947 - val_mean_absolute_error: 4.2252\n",
      "Epoch 5/50\n",
      "270/270 [==============================] - 0s 1ms/sample - loss: 20.2795 - mean_squared_error: 20.2795 - mean_absolute_error: 3.3060 - val_loss: 30.6067 - val_mean_squared_error: 30.6067 - val_mean_absolute_error: 3.7185\n",
      "Epoch 6/50\n",
      "270/270 [==============================] - 0s 1ms/sample - loss: 16.5252 - mean_squared_error: 16.5252 - mean_absolute_error: 3.0010 - val_loss: 27.0054 - val_mean_squared_error: 27.0054 - val_mean_absolute_error: 3.4864\n",
      "Epoch 7/50\n",
      "270/270 [==============================] - 0s 1ms/sample - loss: 14.8477 - mean_squared_error: 14.8477 - mean_absolute_error: 2.9620 - val_loss: 25.7411 - val_mean_squared_error: 25.7411 - val_mean_absolute_error: 3.2243\n",
      "Epoch 8/50\n",
      "270/270 [==============================] - 0s 1ms/sample - loss: 13.2583 - mean_squared_error: 13.2583 - mean_absolute_error: 2.7707 - val_loss: 23.1298 - val_mean_squared_error: 23.1298 - val_mean_absolute_error: 3.0770\n",
      "Epoch 9/50\n",
      "270/270 [==============================] - 0s 1ms/sample - loss: 12.0262 - mean_squared_error: 12.0262 - mean_absolute_error: 2.6068 - val_loss: 21.1424 - val_mean_squared_error: 21.1424 - val_mean_absolute_error: 2.9898\n",
      "Epoch 10/50\n",
      "270/270 [==============================] - 0s 2ms/sample - loss: 11.1470 - mean_squared_error: 11.1470 - mean_absolute_error: 2.5732 - val_loss: 19.6613 - val_mean_squared_error: 19.6613 - val_mean_absolute_error: 2.8695\n",
      "Epoch 11/50\n",
      "270/270 [==============================] - 0s 1ms/sample - loss: 10.3749 - mean_squared_error: 10.3749 - mean_absolute_error: 2.4773 - val_loss: 18.9956 - val_mean_squared_error: 18.9956 - val_mean_absolute_error: 2.8538\n",
      "Epoch 12/50\n",
      "270/270 [==============================] - 0s 1ms/sample - loss: 9.9974 - mean_squared_error: 9.9974 - mean_absolute_error: 2.4274 - val_loss: 17.4254 - val_mean_squared_error: 17.4254 - val_mean_absolute_error: 2.7280\n",
      "Epoch 13/50\n",
      "270/270 [==============================] - 0s 979us/sample - loss: 9.5486 - mean_squared_error: 9.5486 - mean_absolute_error: 2.4462 - val_loss: 17.6575 - val_mean_squared_error: 17.6575 - val_mean_absolute_error: 2.7826\n",
      "Epoch 14/50\n",
      "270/270 [==============================] - 0s 1ms/sample - loss: 9.2016 - mean_squared_error: 9.2016 - mean_absolute_error: 2.3290 - val_loss: 16.3443 - val_mean_squared_error: 16.3443 - val_mean_absolute_error: 2.7019\n",
      "Epoch 15/50\n",
      "270/270 [==============================] - 0s 939us/sample - loss: 8.6808 - mean_squared_error: 8.6808 - mean_absolute_error: 2.3031 - val_loss: 16.7494 - val_mean_squared_error: 16.7494 - val_mean_absolute_error: 2.6962\n",
      "Epoch 16/50\n",
      "270/270 [==============================] - 0s 1ms/sample - loss: 8.2722 - mean_squared_error: 8.2722 - mean_absolute_error: 2.2386 - val_loss: 16.1755 - val_mean_squared_error: 16.1755 - val_mean_absolute_error: 2.6672\n",
      "Epoch 17/50\n",
      "270/270 [==============================] - 0s 1ms/sample - loss: 8.0013 - mean_squared_error: 8.0013 - mean_absolute_error: 2.2182 - val_loss: 16.1721 - val_mean_squared_error: 16.1721 - val_mean_absolute_error: 2.6597\n",
      "Epoch 18/50\n",
      "270/270 [==============================] - 0s 1ms/sample - loss: 7.9618 - mean_squared_error: 7.9618 - mean_absolute_error: 2.1618 - val_loss: 15.5478 - val_mean_squared_error: 15.5478 - val_mean_absolute_error: 2.5775\n",
      "Epoch 19/50\n",
      "270/270 [==============================] - 0s 1ms/sample - loss: 7.5509 - mean_squared_error: 7.5509 - mean_absolute_error: 2.1442 - val_loss: 15.4293 - val_mean_squared_error: 15.4293 - val_mean_absolute_error: 2.6340\n",
      "Epoch 20/50\n",
      "270/270 [==============================] - 0s 1ms/sample - loss: 7.1207 - mean_squared_error: 7.1207 - mean_absolute_error: 2.0732 - val_loss: 15.1771 - val_mean_squared_error: 15.1771 - val_mean_absolute_error: 2.5467\n",
      "Epoch 21/50\n",
      "270/270 [==============================] - 0s 1ms/sample - loss: 7.2190 - mean_squared_error: 7.2190 - mean_absolute_error: 2.0608 - val_loss: 15.1495 - val_mean_squared_error: 15.1495 - val_mean_absolute_error: 2.5746\n",
      "Epoch 22/50\n",
      "270/270 [==============================] - 0s 1ms/sample - loss: 6.9233 - mean_squared_error: 6.9233 - mean_absolute_error: 2.0356 - val_loss: 14.5156 - val_mean_squared_error: 14.5156 - val_mean_absolute_error: 2.5374\n",
      "Epoch 23/50\n",
      "270/270 [==============================] - 0s 734us/sample - loss: 6.6323 - mean_squared_error: 6.6323 - mean_absolute_error: 1.9619 - val_loss: 15.0344 - val_mean_squared_error: 15.0344 - val_mean_absolute_error: 2.5623\n",
      "Epoch 24/50\n",
      "270/270 [==============================] - 0s 562us/sample - loss: 6.4200 - mean_squared_error: 6.4200 - mean_absolute_error: 1.9471 - val_loss: 15.5285 - val_mean_squared_error: 15.5285 - val_mean_absolute_error: 2.5876\n",
      "Epoch 25/50\n",
      "270/270 [==============================] - 0s 760us/sample - loss: 6.2982 - mean_squared_error: 6.2982 - mean_absolute_error: 1.9223 - val_loss: 15.0022 - val_mean_squared_error: 15.0022 - val_mean_absolute_error: 2.5320\n",
      "Epoch 26/50\n",
      "270/270 [==============================] - 0s 957us/sample - loss: 6.7168 - mean_squared_error: 6.7168 - mean_absolute_error: 2.0252 - val_loss: 16.1437 - val_mean_squared_error: 16.1437 - val_mean_absolute_error: 2.6698\n",
      "Epoch 27/50\n",
      "270/270 [==============================] - 0s 935us/sample - loss: 6.0574 - mean_squared_error: 6.0574 - mean_absolute_error: 1.9057 - val_loss: 14.8312 - val_mean_squared_error: 14.8312 - val_mean_absolute_error: 2.5101\n",
      "Epoch 28/50\n",
      "270/270 [==============================] - 0s 1ms/sample - loss: 6.0564 - mean_squared_error: 6.0564 - mean_absolute_error: 1.8620 - val_loss: 14.1267 - val_mean_squared_error: 14.1267 - val_mean_absolute_error: 2.4558\n",
      "Epoch 29/50\n",
      "270/270 [==============================] - 0s 903us/sample - loss: 5.9595 - mean_squared_error: 5.9595 - mean_absolute_error: 1.8494 - val_loss: 14.8227 - val_mean_squared_error: 14.8227 - val_mean_absolute_error: 2.6604\n",
      "Epoch 30/50\n",
      "270/270 [==============================] - 0s 936us/sample - loss: 7.0224 - mean_squared_error: 7.0224 - mean_absolute_error: 1.9529 - val_loss: 14.4107 - val_mean_squared_error: 14.4107 - val_mean_absolute_error: 2.5741\n",
      "Epoch 31/50\n",
      "270/270 [==============================] - 0s 744us/sample - loss: 5.4517 - mean_squared_error: 5.4517 - mean_absolute_error: 1.7665 - val_loss: 14.6307 - val_mean_squared_error: 14.6307 - val_mean_absolute_error: 2.5250\n",
      "Epoch 32/50\n",
      "270/270 [==============================] - 0s 784us/sample - loss: 5.6311 - mean_squared_error: 5.6311 - mean_absolute_error: 1.7943 - val_loss: 14.4414 - val_mean_squared_error: 14.4414 - val_mean_absolute_error: 2.5287\n",
      "Epoch 33/50\n",
      "270/270 [==============================] - 0s 1ms/sample - loss: 5.1352 - mean_squared_error: 5.1352 - mean_absolute_error: 1.7182 - val_loss: 13.6217 - val_mean_squared_error: 13.6217 - val_mean_absolute_error: 2.4242\n",
      "Epoch 34/50\n",
      "270/270 [==============================] - 0s 1ms/sample - loss: 5.2263 - mean_squared_error: 5.2263 - mean_absolute_error: 1.7461 - val_loss: 14.1018 - val_mean_squared_error: 14.1018 - val_mean_absolute_error: 2.4896\n",
      "Epoch 35/50\n",
      "270/270 [==============================] - 0s 1ms/sample - loss: 5.5030 - mean_squared_error: 5.5030 - mean_absolute_error: 1.7804 - val_loss: 15.0318 - val_mean_squared_error: 15.0318 - val_mean_absolute_error: 2.5260\n",
      "Epoch 36/50\n"
     ]
    },
    {
     "name": "stdout",
     "output_type": "stream",
     "text": [
      "270/270 [==============================] - 0s 1ms/sample - loss: 5.0147 - mean_squared_error: 5.0147 - mean_absolute_error: 1.6866 - val_loss: 13.8439 - val_mean_squared_error: 13.8439 - val_mean_absolute_error: 2.4656\n",
      "Epoch 37/50\n",
      "270/270 [==============================] - 0s 992us/sample - loss: 5.1741 - mean_squared_error: 5.1741 - mean_absolute_error: 1.7433 - val_loss: 14.0983 - val_mean_squared_error: 14.0983 - val_mean_absolute_error: 2.4333\n",
      "Epoch 38/50\n",
      "270/270 [==============================] - 0s 1ms/sample - loss: 4.9314 - mean_squared_error: 4.9314 - mean_absolute_error: 1.6608 - val_loss: 14.8190 - val_mean_squared_error: 14.8190 - val_mean_absolute_error: 2.5370\n",
      "Epoch 39/50\n",
      "270/270 [==============================] - 0s 878us/sample - loss: 4.6972 - mean_squared_error: 4.6972 - mean_absolute_error: 1.6372 - val_loss: 13.7501 - val_mean_squared_error: 13.7501 - val_mean_absolute_error: 2.4548\n",
      "Epoch 40/50\n",
      "270/270 [==============================] - 0s 1ms/sample - loss: 4.9624 - mean_squared_error: 4.9624 - mean_absolute_error: 1.7017 - val_loss: 12.9978 - val_mean_squared_error: 12.9978 - val_mean_absolute_error: 2.3360\n",
      "Epoch 41/50\n",
      "270/270 [==============================] - 0s 985us/sample - loss: 4.6100 - mean_squared_error: 4.6100 - mean_absolute_error: 1.6167 - val_loss: 13.7726 - val_mean_squared_error: 13.7726 - val_mean_absolute_error: 2.4550\n",
      "Epoch 42/50\n",
      "270/270 [==============================] - 0s 860us/sample - loss: 4.4573 - mean_squared_error: 4.4573 - mean_absolute_error: 1.5552 - val_loss: 13.2778 - val_mean_squared_error: 13.2778 - val_mean_absolute_error: 2.3826\n",
      "Epoch 43/50\n",
      "270/270 [==============================] - 0s 1ms/sample - loss: 4.4371 - mean_squared_error: 4.4371 - mean_absolute_error: 1.5972 - val_loss: 13.1284 - val_mean_squared_error: 13.1284 - val_mean_absolute_error: 2.3673\n",
      "Epoch 44/50\n",
      "270/270 [==============================] - 0s 1ms/sample - loss: 4.5649 - mean_squared_error: 4.5649 - mean_absolute_error: 1.5880 - val_loss: 13.3983 - val_mean_squared_error: 13.3983 - val_mean_absolute_error: 2.4052\n",
      "Epoch 45/50\n",
      "270/270 [==============================] - 0s 1ms/sample - loss: 4.0567 - mean_squared_error: 4.0567 - mean_absolute_error: 1.5279 - val_loss: 13.2079 - val_mean_squared_error: 13.2079 - val_mean_absolute_error: 2.3547\n",
      "Epoch 46/50\n",
      "270/270 [==============================] - 0s 1ms/sample - loss: 4.2173 - mean_squared_error: 4.2173 - mean_absolute_error: 1.5585 - val_loss: 13.2893 - val_mean_squared_error: 13.2893 - val_mean_absolute_error: 2.4020\n",
      "Epoch 47/50\n",
      "270/270 [==============================] - 0s 995us/sample - loss: 4.2641 - mean_squared_error: 4.2641 - mean_absolute_error: 1.5509 - val_loss: 13.4553 - val_mean_squared_error: 13.4553 - val_mean_absolute_error: 2.3929\n",
      "Epoch 48/50\n",
      "270/270 [==============================] - 0s 1ms/sample - loss: 4.0874 - mean_squared_error: 4.0874 - mean_absolute_error: 1.5302 - val_loss: 13.4411 - val_mean_squared_error: 13.4411 - val_mean_absolute_error: 2.3822\n",
      "Epoch 49/50\n",
      "270/270 [==============================] - 0s 942us/sample - loss: 4.0027 - mean_squared_error: 4.0027 - mean_absolute_error: 1.4953 - val_loss: 13.0810 - val_mean_squared_error: 13.0810 - val_mean_absolute_error: 2.3707\n",
      "Epoch 50/50\n",
      "270/270 [==============================] - 0s 955us/sample - loss: 3.8324 - mean_squared_error: 3.8324 - mean_absolute_error: 1.4813 - val_loss: 13.1885 - val_mean_squared_error: 13.1885 - val_mean_absolute_error: 2.3597\n"
     ]
    },
    {
     "data": {
      "text/plain": [
       "<tensorflow.python.keras.callbacks.History at 0x7fa4f7ecc0b8>"
      ]
     },
     "execution_count": 11,
     "metadata": {},
     "output_type": "execute_result"
    }
   ],
   "source": [
    "wandb.init(project=\"inclass\", entity=\"ds8\") #Initializes and Experiment\n",
    "\n",
    "# Important Hyperparameters\n",
    "X =  x_train\n",
    "y =  y_train\n",
    "\n",
    "inputs = X.shape[1]\n",
    "wandb.config.epochs = 50\n",
    "wandb.config.batch_size = 10\n",
    "\n",
    "# Create Model\n",
    "model = Sequential()\n",
    "model.add(Dense(64, activation='relu', input_shape=(inputs,)))\n",
    "model.add(Dense(64, activation='relu'))\n",
    "model.add(Dense(64, activation='relu'))\n",
    "model.add(Dense(1))\n",
    "# Compile Model\n",
    "model.compile(optimizer='adam', loss='mse', metrics=['mse', 'mae'])\n",
    "\n",
    "# Fit Model\n",
    "model.fit(X, y, \n",
    "          validation_split=0.33, \n",
    "          epochs=wandb.config.epochs, \n",
    "          batch_size=wandb.config.batch_size, \n",
    "          callbacks=[WandbCallback()]\n",
    "         )"
   ]
  },
  {
   "cell_type": "markdown",
   "metadata": {},
   "source": [
    "## Challenge\n",
    "\n",
    "You will be expected to use Weights & Biases to try to tune your model during your module assignment today. "
   ]
  },
  {
   "cell_type": "markdown",
   "metadata": {},
   "source": [
    "# Hyperparameters with RandomSearchCV (Learn)"
   ]
  },
  {
   "cell_type": "markdown",
   "metadata": {},
   "source": [
    "## Overview\n",
    "\n",
    "Basically `GridSearchCV` takes forever. You'll want to adopt a slightly more sophiscated strategy."
   ]
  },
  {
   "cell_type": "markdown",
   "metadata": {},
   "source": [
    "## Follow Along"
   ]
  },
  {
   "cell_type": "code",
   "execution_count": 12,
   "metadata": {},
   "outputs": [],
   "source": [
    "sweep_config = {\n",
    "    'method': 'random',\n",
    "    'parameters': {\n",
    "        'learning_rate': {'distribution': 'normal'},\n",
    "        'epochs': {'distribution': 'uniform',\n",
    "                    'min': 100,\n",
    "                    'max': 1000},\n",
    "        'batch_size': {'distribution': 'uniform',\n",
    "            'min': 10,\n",
    "            'max': 400}\n",
    "    }\n",
    "}"
   ]
  },
  {
   "cell_type": "code",
   "execution_count": 13,
   "metadata": {},
   "outputs": [
    {
     "name": "stdout",
     "output_type": "stream",
     "text": [
      "Create sweep with ID: udlkbf5h\n",
      "Sweep URL: https://app.wandb.ai/ds8/inclass/sweeps/udlkbf5h\n"
     ]
    }
   ],
   "source": [
    "sweep_id = wandb.sweep(sweep_config)"
   ]
  },
  {
   "cell_type": "code",
   "execution_count": 14,
   "metadata": {},
   "outputs": [],
   "source": [
    "import wandb\n",
    "from wandb.keras import WandbCallback\n",
    "#Initializes and Experiment\n",
    "\n",
    "from tensorflow.keras.optimizers import Adam\n",
    "\n",
    "# Important Hyperparameters\n",
    "X =  x_train\n",
    "y =  y_train\n",
    "\n",
    "inputs = X.shape[1]\n",
    "\n",
    "def train():\n",
    "    \n",
    "    wandb.init(project=\"boston\", entity=\"lambda-ds7\") \n",
    "    \n",
    "    config = wandb.config\n",
    "\n",
    "    # Create Model\n",
    "    model = Sequential()\n",
    "    model.add(Dense(64, activation='relu', input_shape=(inputs,)))\n",
    "    model.add(Dense(64, activation='relu'))\n",
    "    model.add(Dense(64, activation='relu'))\n",
    "    model.add(Dense(1))\n",
    "\n",
    "    # Optimizer \n",
    "    adam = Adam(learning_rate=config.learning_rate)\n",
    "\n",
    "    # Compile Model\n",
    "    model.compile(optimizer=adam, loss='mse', metrics=['mse', 'mae'])\n",
    "\n",
    "    # Fit Model\n",
    "    model.fit(X, y, \n",
    "              validation_split=0.33, \n",
    "              epochs=config.epochs, \n",
    "              batch_size=config.batch_size, \n",
    "              callbacks=[WandbCallback()]\n",
    "             )"
   ]
  },
  {
   "cell_type": "code",
   "execution_count": null,
   "metadata": {},
   "outputs": [
    {
     "name": "stderr",
     "output_type": "stream",
     "text": [
      "Failed to query for notebook name, you can set it manually with the WANDB_NOTEBOOK_NAME environment variable\n"
     ]
    },
    {
     "name": "stdout",
     "output_type": "stream",
     "text": [
      "wandb: Agent Starting Run: czjtg7rk with config:\n",
      "\tbatch_size: 90.28215975119905\n",
      "\tepochs: 341.7651621142948\n",
      "\tlearning_rate: 0.1319028449496636\n"
     ]
    },
    {
     "name": "stderr",
     "output_type": "stream",
     "text": [
      "Error generating diff: Command '['git', 'diff', '--submodule=diff', 'HEAD']' timed out after 5 seconds\n"
     ]
    },
    {
     "name": "stdout",
     "output_type": "stream",
     "text": [
      "wandb: Agent Started Run: czjtg7rk\n"
     ]
    },
    {
     "data": {
      "text/html": [
       "\n",
       "                Logging results to <a href=\"https://wandb.com\" target=\"_blank\">Weights & Biases</a> <a href=\"https://docs.wandb.com/integrations/jupyter.html\" target=\"_blank\">(Documentation)</a>.<br/>\n",
       "                Project page: <a href=\"https://app.wandb.ai/lambda-ds7/boston\" target=\"_blank\">https://app.wandb.ai/lambda-ds7/boston</a><br/>\n",
       "                Run page: <a href=\"https://app.wandb.ai/lambda-ds7/boston/runs/a4zo1afb\" target=\"_blank\">https://app.wandb.ai/lambda-ds7/boston/runs/a4zo1afb</a><br/>\n",
       "            "
      ],
      "text/plain": [
       "<IPython.core.display.HTML object>"
      ]
     },
     "metadata": {},
     "output_type": "display_data"
    },
    {
     "name": "stderr",
     "output_type": "stream",
     "text": [
      "Failed to query for notebook name, you can set it manually with the WANDB_NOTEBOOK_NAME environment variable\n",
      "Process Process-1:\n",
      "Traceback (most recent call last):\n",
      "  File \"/home/ec2-user/anaconda3/envs/tensorflow_p36/lib/python3.6/site-packages/wandb/apis/__init__.py\", line 60, in wrapper\n",
      "    return func(*args, **kwargs)\n",
      "  File \"/home/ec2-user/anaconda3/envs/tensorflow_p36/lib/python3.6/site-packages/wandb/apis/internal.py\", line 599, in run_resume_status\n",
      "    'entity': entity, 'project': project_name, 'name': name,\n",
      "  File \"/home/ec2-user/anaconda3/envs/tensorflow_p36/lib/python3.6/site-packages/wandb/retry.py\", line 95, in __call__\n",
      "    result = self._call_fn(*args, **kwargs)\n",
      "  File \"/home/ec2-user/anaconda3/envs/tensorflow_p36/lib/python3.6/site-packages/wandb/apis/internal.py\", line 103, in execute\n",
      "    return self.client.execute(*args, **kwargs)\n",
      "  File \"/home/ec2-user/anaconda3/envs/tensorflow_p36/lib/python3.6/site-packages/gql/client.py\", line 52, in execute\n",
      "    raise Exception(str(result.errors[0]))\n",
      "Exception: {'message': 'graphql: panic occurred: net/http: internal error: connCount underflow', 'path': ['model', 'bucket', 'eventsLineCount']}\n",
      "\n",
      "During handling of the above exception, another exception occurred:\n",
      "\n",
      "Traceback (most recent call last):\n",
      "  File \"/home/ec2-user/anaconda3/envs/tensorflow_p36/lib/python3.6/multiprocessing/process.py\", line 258, in _bootstrap\n",
      "    self.run()\n",
      "  File \"/home/ec2-user/anaconda3/envs/tensorflow_p36/lib/python3.6/multiprocessing/process.py\", line 93, in run\n",
      "    self._target(*self._args, **self._kwargs)\n",
      "  File \"/home/ec2-user/anaconda3/envs/tensorflow_p36/lib/python3.6/site-packages/wandb/wandb_agent.py\", line 62, in _start\n",
      "    function()\n",
      "  File \"<ipython-input-14-23dfe667f67c>\", line 15, in train\n",
      "    wandb.init(project=\"boston\", entity=\"lambda-ds7\")\n",
      "  File \"/home/ec2-user/anaconda3/envs/tensorflow_p36/lib/python3.6/site-packages/wandb/__init__.py\", line 1086, in init\n",
      "    run.config._update(config, allow_val_change=allow_val_change, as_defaults=not allow_val_change)\n",
      "  File \"/home/ec2-user/anaconda3/envs/tensorflow_p36/lib/python3.6/site-packages/wandb/wandb_config.py\", line 278, in _update\n",
      "    self.persist()\n",
      "  File \"/home/ec2-user/anaconda3/envs/tensorflow_p36/lib/python3.6/site-packages/wandb/wandb_config.py\", line 196, in persist\n",
      "    wandb.run._jupyter_agent.start()\n",
      "  File \"/home/ec2-user/anaconda3/envs/tensorflow_p36/lib/python3.6/site-packages/wandb/jupyter.py\", line 129, in start\n",
      "    new_step = self.rm.init_run(dict(os.environ))\n",
      "  File \"/home/ec2-user/anaconda3/envs/tensorflow_p36/lib/python3.6/site-packages/wandb/run_manager.py\", line 929, in init_run\n",
      "    resume_status, thread = async_resume_status(self._api.settings(\"entity\"), self._project, self._run.id)\n",
      "  File \"/home/ec2-user/anaconda3/envs/tensorflow_p36/lib/python3.6/site-packages/wandb/util.py\", line 739, in wrapper\n",
      "    six.reraise(type(result), result, sys.exc_info()[2])\n",
      "  File \"/home/ec2-user/anaconda3/envs/tensorflow_p36/lib/python3.6/site-packages/six.py\", line 692, in reraise\n",
      "    raise value.with_traceback(tb)\n",
      "wandb.apis.CommError: graphql: panic occurred: net/http: internal error: connCount underflow\n"
     ]
    }
   ],
   "source": [
    "wandb.agent(sweep_id, function=train)"
   ]
  },
  {
   "cell_type": "markdown",
   "metadata": {},
   "source": [
    "## Challenge\n",
    "\n",
    "Try to apply RandomSearchCV to your module project today. "
   ]
  },
  {
   "cell_type": "markdown",
   "metadata": {},
   "source": [
    "# Review\n",
    "* <a href=\"#p1\">Part 1</a>: Describe the major hyperparemeters to tune\n",
    "    - Activation Functions\n",
    "    - Optimizer\n",
    "    - Number of Layers\n",
    "    - Number of Neurons\n",
    "    - Batch Size\n",
    "    - Dropout Regulaization\n",
    "    - Learning Rate\n",
    "    - Number of Epochs\n",
    "    - and many more\n",
    "* <a href=\"#p2\">Part 2</a>: Implement an experiment tracking framework\n",
    "    - Weights & Biases\n",
    "    - Comet.ml\n",
    "    - By Hand / GridSearch\n",
    "* <a href=\"#p3\">Part 3</a>: Search the hyperparameter space using RandomSearch\n",
    "    - Sklearn still useful (haha)\n",
    "    - Integration with Wieghts & Biases\n",
    "* <a href=\"#p4\">Part 4</a>: Discuss emerging hyperparameter tuning strategies\n",
    "    - Bayesian Optimization\n",
    "    - Hyperopt\n",
    "    - Genetic Evolution"
   ]
  },
  {
   "cell_type": "markdown",
   "metadata": {},
   "source": [
    "# Sources"
   ]
  },
  {
   "cell_type": "markdown",
   "metadata": {},
   "source": [
    "## Additional Reading\n",
    "- https://machinelearningmastery.com/grid-search-hyperparameters-deep-learning-models-python-keras/\n",
    "- https://blog.floydhub.com/guide-to-hyperparameters-search-for-deep-learning-models/\n",
    "- https://machinelearningmastery.com/dropout-regularization-deep-learning-models-keras/\n",
    "- https://machinelearningmastery.com/introduction-to-weight-constraints-to-reduce-generalization-error-in-deep-learning/\n",
    "- https://machinelearningmastery.com/how-to-configure-the-number-of-layers-and-nodes-in-a-neural-network/"
   ]
  },
  {
   "cell_type": "code",
   "execution_count": null,
   "metadata": {},
   "outputs": [],
   "source": []
  },
  {
   "cell_type": "code",
   "execution_count": null,
   "metadata": {},
   "outputs": [],
   "source": []
  },
  {
   "cell_type": "code",
   "execution_count": null,
   "metadata": {},
   "outputs": [],
   "source": []
  },
  {
   "cell_type": "code",
   "execution_count": null,
   "metadata": {},
   "outputs": [],
   "source": []
  },
  {
   "cell_type": "code",
   "execution_count": null,
   "metadata": {},
   "outputs": [],
   "source": []
  },
  {
   "cell_type": "code",
   "execution_count": null,
   "metadata": {},
   "outputs": [],
   "source": []
  },
  {
   "cell_type": "code",
   "execution_count": null,
   "metadata": {},
   "outputs": [],
   "source": []
  }
 ],
 "metadata": {
  "kernelspec": {
   "display_name": "conda_tensorflow_p36",
   "language": "python",
   "name": "conda_tensorflow_p36"
  },
  "language_info": {
   "codemirror_mode": {
    "name": "ipython",
    "version": 3
   },
   "file_extension": ".py",
   "mimetype": "text/x-python",
   "name": "python",
   "nbconvert_exporter": "python",
   "pygments_lexer": "ipython3",
   "version": "3.6.5"
  }
 },
 "nbformat": 4,
 "nbformat_minor": 4
}
